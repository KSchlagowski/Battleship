{
 "cells": [
  {
   "cell_type": "markdown",
   "metadata": {},
   "source": [
    "In this project we will try to use genetic algorithms to find a solution to Battleship game (sinking all those placed on the board)."
   ]
  },
  {
   "cell_type": "code",
   "execution_count": 1,
   "metadata": {},
   "outputs": [],
   "source": [
    "import pygad\n",
    "import numpy as np\n",
    "import matplotlib.pyplot as plt\n",
    "import seaborn as sns\n",
    "import pandas as pd\n",
    "import time\n",
    "from statistics import mean \n",
    "from aco import AntColony"
   ]
  },
  {
   "cell_type": "markdown",
   "metadata": {},
   "source": [
    "Initialize the variables needed for the function."
   ]
  },
  {
   "cell_type": "code",
   "execution_count": 2,
   "metadata": {},
   "outputs": [],
   "source": [
    "board_size = 10\n",
    "target_board = np.zeros((board_size, board_size))\n",
    "board = np.zeros((board_size, board_size))\n",
    "maxResult = 10\n",
    "resultsList = []\n",
    "timeList = []\n",
    "bestResultsTimeList = []\n",
    "perfectResultsTimeList = []"
   ]
  },
  {
   "cell_type": "markdown",
   "metadata": {},
   "source": [
    "We will need a simple fitness function that will compare the board with the adopted solution parameter. Based on this data, we will find out how many ships the algorithm managed to sink."
   ]
  },
  {
   "cell_type": "code",
   "execution_count": 3,
   "metadata": {},
   "outputs": [],
   "source": [
    "def fitness_func(solution, solution_idx):\n",
    "    board = np.zeros((len(target_board), len(target_board)))\n",
    "\n",
    "    for i in range(0, len(solution), 2):\n",
    "        row = solution[i]\n",
    "        col = solution[i+1]\n",
    "        board[row][col] = 1\n",
    "\n",
    "    hits = 0\n",
    "    for i in range(len(target_board)):\n",
    "        for j in range(len(target_board)):\n",
    "            if board[i][j] == 1 and target_board[i][j] == 1:\n",
    "                hits += 1\n",
    "    return hits"
   ]
  },
  {
   "cell_type": "markdown",
   "metadata": {},
   "source": [
    "The showResults() function will be used to visualize the obtained result. Ships on the board will be colored yellow. Those that are hit will remain yellow, and the missed spots will be highlighted in blue."
   ]
  },
  {
   "cell_type": "code",
   "execution_count": 4,
   "metadata": {},
   "outputs": [],
   "source": [
    "def showResults(solution):\n",
    "    result = np.copy(target_board)\n",
    "    board = np.zeros((len(target_board), len(target_board)))\n",
    "    for i in range(0, len(solution), 2):\n",
    "        row = solution[i]\n",
    "        col = solution[i+1]\n",
    "        board[row][col] = 1\n",
    "\n",
    "    for i in range(len(result)):\n",
    "        for j in range(len(result[0])):\n",
    "            if target_board[i][j] == board[i][j]:\n",
    "                result[i][j] += board[i][j]\n",
    "    plt.matshow(result)\n",
    "    plt.show()\n",
    "    "
   ]
  },
  {
   "cell_type": "markdown",
   "metadata": {},
   "source": [
    "To better understand the effectiveness of the written algorithms, we will use interpretResults()."
   ]
  },
  {
   "cell_type": "code",
   "execution_count": 9,
   "metadata": {},
   "outputs": [],
   "source": [
    "def interprateResults(_maxResult, _resultsList, _bestResultsTimeList, _perfectResultsTimeList):\n",
    "    print(\"Average hits of all solutions = \", mean([x / _maxResult for x in _resultsList]))                                \n",
    "    print(\"Number of solutions better than or equal to 90% effectiveness = \", len(_bestResultsTimeList))\n",
    "    if len(_bestResultsTimeList) > 0:\n",
    "        print(\"Average time of solutions better than or equal to 90% effectiveness = \", mean(_bestResultsTimeList))\n",
    "    print(\"Number of perfect solutions = \", len(_perfectResultsTimeList))\n",
    "    if len(_perfectResultsTimeList) > 0:\n",
    "        print(\"Average time of perfect solutions = \", mean(_perfectResultsTimeList))"
   ]
  },
  {
   "cell_type": "markdown",
   "metadata": {},
   "source": [
    "Let's start with 5x5 boards. We will create three example ship setups: 1x triple, 2x double, 3x single. Let's visualize it right away."
   ]
  },
  {
   "cell_type": "code",
   "execution_count": 6,
   "metadata": {},
   "outputs": [
    {
     "data": {
      "image/png": "[encoded data removed]",
      "text/plain": [
       "<Figure size 345.6x345.6 with 1 Axes>"
      ]
     },
     "metadata": {
      "needs_background": "light"
     },
     "output_type": "display_data"
    }
   ],
   "source": [
    "target_board = np.array([[1,1,1,0,1],\n",
    "                         [0,0,0,0,0],\n",
    "                         [1,1,0,1,0],\n",
    "                         [0,0,0,0,0],\n",
    "                         [1,1,0,1,0]])\n",
    "plt.matshow(target_board)\n",
    "plt.show()"
   ]
  },
  {
   "cell_type": "markdown",
   "metadata": {},
   "source": [
    "Let's see an example of what a wrong place on the ship will look like. Let's set a random, bad number for generations, parents, population and mutations."
   ]
  },
  {
   "cell_type": "code",
   "execution_count": 10,
   "metadata": {},
   "outputs": [
    {
     "name": "stdout",
     "output_type": "stream",
     "text": [
      "Number of hits = 7 / 10\n",
      "Number of shots fired = 26\n"
     ]
    },
    {
     "data": {
      "image/png": "[encoded data removed]",
      "text/plain": [
       "<Figure size 288x288 with 1 Axes>"
      ]
     },
     "metadata": {
      "needs_background": "light"
     },
     "output_type": "display_data"
    }
   ],
   "source": [
    "ga_instance = pygad.GA(num_generations=3,\n",
    "                       num_parents_mating=4,\n",
    "                       fitness_func=fitness_func,\n",
    "                       sol_per_pop=10,\n",
    "                       num_genes=target_board.size+1,\n",
    "                       gene_type=int,\n",
    "                       mutation_percent_genes=5)\n",
    "ga_instance.run()\n",
    "solution, solution_fitness, solution_idx = ga_instance.best_solution()\n",
    "print(\"Number of hits = {solution_fitness}\".format(solution_fitness=solution_fitness), \"/ 10\")\n",
    "print(\"Number of shots fired =\", len(solution))\n",
    "showResults(solution)"
   ]
  },
  {
   "cell_type": "markdown",
   "metadata": {},
   "source": [
    "Now let's change the value of generations to 100, although a much smaller number will also suffice."
   ]
  },
  {
   "cell_type": "markdown",
   "metadata": {},
   "source": [
    "The chromosomes will be the lengths of all available squares on the board +1 for the fitness function we wrote for even numbers only. So the length will be 26."
   ]
  },
  {
   "cell_type": "markdown",
   "metadata": {},
   "source": [
    "We will set the population to 100."
   ]
  },
  {
   "cell_type": "markdown",
   "metadata": {},
   "source": [
    "Let's take the smallest mutation that pygad allows us = 4."
   ]
  },
  {
   "cell_type": "code",
   "execution_count": 11,
   "metadata": {},
   "outputs": [
    {
     "name": "stdout",
     "output_type": "stream",
     "text": [
      "Average hits of all solutions =  1.0\n",
      "Number of solutions better than or equal to 90% effectiveness =  100\n",
      "Average time of solutions better than or equal to 90% effectiveness =  0.30054645776748656\n",
      "Number of perfect solutions =  100\n",
      "Average time of perfect solutions =  0.30054645776748656\n"
     ]
    }
   ],
   "source": [
    "maxResult5x5_1 = 10\n",
    "resultsList5x5_1 = []\n",
    "timeList5x5_1 = []\n",
    "bestResultsTimeList5x5_1 = []\n",
    "perfectResultsTimeList5x5_1 = []\n",
    "\n",
    "for i in range(100):\n",
    "    start = time.time()\n",
    "    ga_instance = pygad.GA(num_generations=100,\n",
    "                        num_parents_mating=30,\n",
    "                        fitness_func=fitness_func,\n",
    "                        sol_per_pop=100,\n",
    "                        num_genes=target_board.size+1,\n",
    "                        gene_type=int,\n",
    "                        mutation_percent_genes=4)\n",
    "    ga_instance.run()\n",
    "    end = time.time()\n",
    "    solution, solution_fitness, solution_idx = ga_instance.best_solution()\n",
    "\n",
    "    resultsList5x5_1.append(solution_fitness)\n",
    "    timeList5x5_1.append(end - start)\n",
    "\n",
    "for i in range(100):\n",
    "    if resultsList5x5_1[i] == maxResult5x5_1:\n",
    "        perfectResultsTimeList5x5_1.append(timeList5x5_1[i])\n",
    "    if resultsList5x5_1[i]/maxResult5x5_1 >= 0.9:\n",
    "        bestResultsTimeList5x5_1.append(timeList5x5_1[i])\n",
    "        \n",
    "interprateResults(maxResult5x5_1, resultsList5x5_1, bestResultsTimeList5x5_1, perfectResultsTimeList5x5_1)"
   ]
  },
  {
   "cell_type": "markdown",
   "metadata": {},
   "source": [
    "As we can see, the effectiveness is very high."
   ]
  },
  {
   "cell_type": "markdown",
   "metadata": {},
   "source": [
    "Let's move on to the next example."
   ]
  },
  {
   "cell_type": "code",
   "execution_count": 12,
   "metadata": {},
   "outputs": [
    {
     "data": {
      "image/png": "[encoded data removed]",
      "text/plain": [
       "<Figure size 288x288 with 1 Axes>"
      ]
     },
     "metadata": {
      "needs_background": "light"
     },
     "output_type": "display_data"
    }
   ],
   "source": [
    "target_board = np.array([[0,0,1,0,1],\n",
    "                         [1,0,1,0,1],\n",
    "                         [0,0,1,0,0],\n",
    "                         [1,0,0,0,0],\n",
    "                         [1,0,1,0,1]])\n",
    "plt.matshow(target_board)\n",
    "plt.show()"
   ]
  },
  {
   "cell_type": "code",
   "execution_count": 13,
   "metadata": {},
   "outputs": [
    {
     "name": "stdout",
     "output_type": "stream",
     "text": [
      "Number of hits = 10 / 10\n",
      "Number of shots fired = 26\n"
     ]
    },
    {
     "data": {
      "image/png": "[encoded data removed]",
      "text/plain": [
       "<Figure size 288x288 with 1 Axes>"
      ]
     },
     "metadata": {
      "needs_background": "light"
     },
     "output_type": "display_data"
    }
   ],
   "source": [
    "ga_instance = pygad.GA(num_generations=100,\n",
    "                       num_parents_mating=30,\n",
    "                       fitness_func=fitness_func,\n",
    "                       sol_per_pop=100,\n",
    "                       num_genes=target_board.size+1,\n",
    "                       gene_type=int,\n",
    "                       mutation_percent_genes=4)\n",
    "ga_instance.run()\n",
    "solution, solution_fitness, solution_idx = ga_instance.best_solution()\n",
    "print(\"Number of hits = {solution_fitness}\".format(solution_fitness=solution_fitness), \"/ 10\")\n",
    "print(\"Number of shots fired =\", len(solution))\n",
    "showResults(solution)"
   ]
  },
  {
   "cell_type": "code",
   "execution_count": 14,
   "metadata": {},
   "outputs": [
    {
     "name": "stdout",
     "output_type": "stream",
     "text": [
      "Average hits of all solutions =  0.996\n",
      "Number of solutions better than or equal to 90% effectiveness =  100\n",
      "Average time of solutions better than or equal to 90% effectiveness =  0.31193971157073974\n",
      "Number of perfect solutions =  96\n",
      "Average time of perfect solutions =  0.31165114790201187\n"
     ]
    }
   ],
   "source": [
    "maxResult5x5_2 = 10\n",
    "resultsList5x5_2 = []\n",
    "timeList5x5_2 = []\n",
    "bestResultsTimeList5x5_2 = []\n",
    "perfectResultsTimeList5x5_2 = []\n",
    "\n",
    "for i in range(100):\n",
    "    start = time.time()\n",
    "    ga_instance = pygad.GA(num_generations=100,\n",
    "                        num_parents_mating=30,\n",
    "                        fitness_func=fitness_func,\n",
    "                        sol_per_pop=100,\n",
    "                        num_genes=target_board.size+1,\n",
    "                        gene_type=int,\n",
    "                        mutation_percent_genes=4)\n",
    "    ga_instance.run()\n",
    "    end = time.time()\n",
    "    solution, solution_fitness, solution_idx = ga_instance.best_solution()\n",
    "\n",
    "    resultsList5x5_2.append(solution_fitness)\n",
    "    timeList5x5_2.append(end - start)\n",
    "\n",
    "for i in range(100):\n",
    "    if resultsList5x5_2[i] == maxResult5x5_2:\n",
    "        perfectResultsTimeList5x5_2.append(timeList5x5_2[i])\n",
    "    if resultsList5x5_2[i]/maxResult5x5_2 >= 0.9:\n",
    "        bestResultsTimeList5x5_2.append(timeList5x5_2[i])\n",
    "        \n",
    "interprateResults(maxResult5x5_2, resultsList5x5_2, bestResultsTimeList5x5_2, perfectResultsTimeList5x5_2)"
   ]
  },
  {
   "cell_type": "markdown",
   "metadata": {},
   "source": [
    "Here, our effectiveness was close to the previous one."
   ]
  },
  {
   "cell_type": "code",
   "execution_count": 15,
   "metadata": {},
   "outputs": [
    {
     "data": {
      "image/png": "[encoded data removed]",
      "text/plain": [
       "<Figure size 288x288 with 1 Axes>"
      ]
     },
     "metadata": {
      "needs_background": "light"
     },
     "output_type": "display_data"
    }
   ],
   "source": [
    "target_board = np.array([[1,1,0,1,0],\n",
    "                         [0,0,0,0,0],\n",
    "                         [1,0,1,1,1],\n",
    "                         [0,0,0,0,0],\n",
    "                         [1,0,1,1,0]])\n",
    "plt.matshow(target_board)\n",
    "plt.show()"
   ]
  },
  {
   "cell_type": "code",
   "execution_count": 16,
   "metadata": {},
   "outputs": [
    {
     "name": "stdout",
     "output_type": "stream",
     "text": [
      "Number of hits = 10 / 10\n",
      "Number of shots fired = 26\n"
     ]
    },
    {
     "data": {
      "image/png": "[encoded data removed]",
      "text/plain": [
       "<Figure size 288x288 with 1 Axes>"
      ]
     },
     "metadata": {
      "needs_background": "light"
     },
     "output_type": "display_data"
    }
   ],
   "source": [
    "ga_instance = pygad.GA(num_generations=100,\n",
    "                       num_parents_mating=30,\n",
    "                       fitness_func=fitness_func,\n",
    "                       sol_per_pop=100,\n",
    "                       num_genes=target_board.size+1,\n",
    "                       gene_type=int,\n",
    "                       mutation_percent_genes=4)\n",
    "ga_instance.run()\n",
    "solution, solution_fitness, solution_idx = ga_instance.best_solution()\n",
    "print(\"Number of hits = {solution_fitness}\".format(solution_fitness=solution_fitness), \"/ 10\")\n",
    "print(\"Number of shots fired =\", len(solution))\n",
    "showResults(solution)"
   ]
  },
  {
   "cell_type": "code",
   "execution_count": 17,
   "metadata": {},
   "outputs": [
    {
     "name": "stdout",
     "output_type": "stream",
     "text": [
      "Average hits of all solutions =  1.0\n",
      "Number of solutions better than or equal to 90% effectiveness =  100\n",
      "Average time of solutions better than or equal to 90% effectiveness =  0.31220049858093263\n",
      "Number of perfect solutions =  100\n",
      "Average time of perfect solutions =  0.31220049858093263\n"
     ]
    }
   ],
   "source": [
    "maxResult5x5_3 = 10\n",
    "resultsList5x5_3 = []\n",
    "timeList5x5_3 = []\n",
    "bestResultsTimeList5x5_3 = []\n",
    "perfectResultsTimeList5x5_3 = []\n",
    "\n",
    "for i in range(100):\n",
    "    start = time.time()\n",
    "    ga_instance = pygad.GA(num_generations=100,\n",
    "                        num_parents_mating=30,\n",
    "                        fitness_func=fitness_func,\n",
    "                        sol_per_pop=100,\n",
    "                        num_genes=target_board.size+1,\n",
    "                        gene_type=int,\n",
    "                        mutation_percent_genes=4)\n",
    "    ga_instance.run()\n",
    "    end = time.time()\n",
    "    solution, solution_fitness, solution_idx = ga_instance.best_solution()\n",
    "\n",
    "    resultsList5x5_3.append(solution_fitness)\n",
    "    timeList5x5_3.append(end - start)\n",
    "\n",
    "for i in range(100):\n",
    "    if resultsList5x5_3[i] == maxResult5x5_3:\n",
    "        perfectResultsTimeList5x5_3.append(timeList5x5_3[i])\n",
    "    if resultsList5x5_3[i]/maxResult5x5_3 >= 0.9:\n",
    "        bestResultsTimeList5x5_3.append(timeList5x5_3[i])\n",
    "        \n",
    "interprateResults(maxResult5x5_3, resultsList5x5_3, bestResultsTimeList5x5_3, perfectResultsTimeList5x5_3)"
   ]
  },
  {
   "cell_type": "markdown",
   "metadata": {},
   "source": [
    "We obtained a similar result."
   ]
  },
  {
   "cell_type": "markdown",
   "metadata": {},
   "source": [
    "Let's see one more example for a test."
   ]
  },
  {
   "cell_type": "code",
   "execution_count": 18,
   "metadata": {},
   "outputs": [
    {
     "data": {
      "image/png": "[encoded data removed]",
      "text/plain": [
       "<Figure size 288x288 with 1 Axes>"
      ]
     },
     "metadata": {
      "needs_background": "light"
     },
     "output_type": "display_data"
    }
   ],
   "source": [
    "target_board = np.array([[1,0,0,0,0],\n",
    "                         [0,0,1,1,1],\n",
    "                         [1,0,0,0,0],\n",
    "                         [0,0,1,0,1],\n",
    "                         [1,0,1,0,1]])\n",
    "plt.matshow(target_board)\n",
    "plt.show()"
   ]
  },
  {
   "cell_type": "code",
   "execution_count": 19,
   "metadata": {},
   "outputs": [
    {
     "name": "stdout",
     "output_type": "stream",
     "text": [
      "Number of hits = 10 / 10\n",
      "Number of shots fired = 26\n"
     ]
    },
    {
     "data": {
      "image/png": "[encoded data removed]",
      "text/plain": [
       "<Figure size 288x288 with 1 Axes>"
      ]
     },
     "metadata": {
      "needs_background": "light"
     },
     "output_type": "display_data"
    }
   ],
   "source": [
    "ga_instance = pygad.GA(num_generations=100,\n",
    "                       num_parents_mating=30,\n",
    "                       fitness_func=fitness_func,\n",
    "                       sol_per_pop=100,\n",
    "                       num_genes=target_board.size+1,\n",
    "                       gene_type=int,\n",
    "                       mutation_percent_genes=4)\n",
    "ga_instance.run()\n",
    "solution, solution_fitness, solution_idx = ga_instance.best_solution()\n",
    "print(\"Number of hits = {solution_fitness}\".format(solution_fitness=solution_fitness), \"/ 10\")\n",
    "print(\"Number of shots fired =\", len(solution))\n",
    "showResults(solution)"
   ]
  },
  {
   "cell_type": "code",
   "execution_count": 20,
   "metadata": {},
   "outputs": [
    {
     "name": "stdout",
     "output_type": "stream",
     "text": [
      "Average hits of all solutions =  0.994\n",
      "Number of solutions better than or equal to 90% effectiveness =  100\n",
      "Average time of solutions better than or equal to 90% effectiveness =  0.3123292398452759\n",
      "Number of perfect solutions =  94\n",
      "Average time of perfect solutions =  0.3124400833819775\n"
     ]
    }
   ],
   "source": [
    "maxResult5x5_4 = 10\n",
    "resultsList5x5_4 = []\n",
    "timeList5x5_4 = []\n",
    "bestResultsTimeList5x5_4 = []\n",
    "perfectResultsTimeList5x5_4 = []\n",
    "\n",
    "for i in range(100):\n",
    "    start = time.time()\n",
    "    ga_instance = pygad.GA(num_generations=100,\n",
    "                        num_parents_mating=30,\n",
    "                        fitness_func=fitness_func,\n",
    "                        sol_per_pop=100,\n",
    "                        num_genes=target_board.size+1,\n",
    "                        gene_type=int,\n",
    "                        mutation_percent_genes=4)\n",
    "    ga_instance.run()\n",
    "    end = time.time()\n",
    "    solution, solution_fitness, solution_idx = ga_instance.best_solution()\n",
    "\n",
    "    resultsList5x5_4.append(solution_fitness)\n",
    "    timeList5x5_4.append(end - start)\n",
    "\n",
    "for i in range(100):\n",
    "    if resultsList5x5_4[i] == maxResult5x5_4:\n",
    "        perfectResultsTimeList5x5_4.append(timeList5x5_4[i])\n",
    "    if resultsList5x5_4[i]/maxResult5x5_4 >= 0.9:\n",
    "        bestResultsTimeList5x5_4.append(timeList5x5_4[i])\n",
    "        \n",
    "interprateResults(maxResult5x5_4, resultsList5x5_4, bestResultsTimeList5x5_4, perfectResultsTimeList5x5_4)"
   ]
  },
  {
   "cell_type": "markdown",
   "metadata": {},
   "source": [
    "As we can see, the algorithm copes well with the assigned task. So let's see if he will do as well with a standard 10x10 board."
   ]
  },
  {
   "cell_type": "code",
   "execution_count": 21,
   "metadata": {},
   "outputs": [
    {
     "data": {
      "image/png": "[encoded data removed]",
      "text/plain": [
       "<Figure size 288x288 with 1 Axes>"
      ]
     },
     "metadata": {
      "needs_background": "light"
     },
     "output_type": "display_data"
    }
   ],
   "source": [
    "target_board = np.array([[1,1,1,1,0,0,0,0,0,0],\n",
    "                            [0,0,0,0,0,0,0,0,0,0],\n",
    "                            [1,1,1,0,0,0,0,0,0,0],\n",
    "                            [0,0,0,0,0,0,0,0,0,0],\n",
    "                            [1,1,1,0,0,0,0,0,0,0],\n",
    "                            [0,0,0,0,0,0,0,0,0,0],\n",
    "                            [1,1,0,1,1,0,0,0,0,0],\n",
    "                            [0,0,0,0,0,0,0,0,0,0],\n",
    "                            [1,1,0,1,0,1,0,1,0,1],\n",
    "                            [0,0,0,0,0,0,0,0,0,0]])\n",
    "plt.matshow(target_board)\n",
    "plt.show()"
   ]
  },
  {
   "cell_type": "markdown",
   "metadata": {},
   "source": [
    "Here the chromosome will be 100 long."
   ]
  },
  {
   "cell_type": "markdown",
   "metadata": {},
   "source": [
    "We will increase the population to 300."
   ]
  },
  {
   "cell_type": "markdown",
   "metadata": {},
   "source": [
    "Let's set the interbreeding parents to 30% of the individuals."
   ]
  },
  {
   "cell_type": "markdown",
   "metadata": {},
   "source": [
    "However, we can reduce the mutation to the lowest possible value = 1."
   ]
  },
  {
   "cell_type": "code",
   "execution_count": 22,
   "metadata": {},
   "outputs": [
    {
     "name": "stdout",
     "output_type": "stream",
     "text": [
      "Number of hits = 20 / 20\n",
      "Number of shots fired = 100\n"
     ]
    },
    {
     "data": {
      "image/png": "[encoded data removed]",
      "text/plain": [
       "<Figure size 288x288 with 1 Axes>"
      ]
     },
     "metadata": {
      "needs_background": "light"
     },
     "output_type": "display_data"
    }
   ],
   "source": [
    "ga_instance = pygad.GA(num_generations=100,\n",
    "                       num_parents_mating=90,\n",
    "                       fitness_func=fitness_func,\n",
    "                       sol_per_pop=300,\n",
    "                       num_genes=target_board.size,\n",
    "                       gene_type=int,\n",
    "                       init_range_low=0,\n",
    "                       init_range_high=target_board.shape[0],\n",
    "                       mutation_percent_genes=1)\n",
    "ga_instance.run()\n",
    "solution, solution_fitness, solution_idx = ga_instance.best_solution()\n",
    "print(\"Number of hits = {solution_fitness}\".format(solution_fitness=solution_fitness), \"/ 20\")\n",
    "print(\"Number of shots fired =\", len(solution))\n",
    "showResults(solution)"
   ]
  },
  {
   "cell_type": "code",
   "execution_count": 23,
   "metadata": {},
   "outputs": [
    {
     "name": "stdout",
     "output_type": "stream",
     "text": [
      "Average hits of all solutions =  1.0\n",
      "Number of solutions better than or equal to 90% effectiveness =  100\n",
      "Average time of solutions better than or equal to 90% effectiveness =  2.0519690227508547\n",
      "Number of perfect solutions =  100\n",
      "Average time of perfect solutions =  2.0519690227508547\n"
     ]
    }
   ],
   "source": [
    "maxResult10x10_1 = 20\n",
    "resultsList10x10_1 = []\n",
    "timeList10x10_1 = []\n",
    "bestResultsTimeList10x10_1 = []\n",
    "perfectResultsTimeList10x10_1 = []\n",
    "\n",
    "for i in range(100):\n",
    "    start = time.time()\n",
    "    ga_instance = pygad.GA(num_generations=100,\n",
    "                        num_parents_mating=90,\n",
    "                        fitness_func=fitness_func,\n",
    "                        sol_per_pop=300,\n",
    "                        num_genes=target_board.size,\n",
    "                        gene_type=int,\n",
    "                        init_range_low=0,\n",
    "                        init_range_high=target_board.shape[0],\n",
    "                        mutation_percent_genes=1)\n",
    "    ga_instance.run()\n",
    "    end = time.time()\n",
    "    solution, solution_fitness, solution_idx = ga_instance.best_solution()\n",
    "\n",
    "    resultsList10x10_1.append(solution_fitness)\n",
    "    timeList10x10_1.append(end - start)\n",
    "\n",
    "for i in range(100):\n",
    "    if resultsList10x10_1[i] == maxResult10x10_1:\n",
    "        perfectResultsTimeList10x10_1.append(timeList10x10_1[i])\n",
    "    if resultsList10x10_1[i]/maxResult10x10_1 >= 0.9:\n",
    "        bestResultsTimeList10x10_1.append(timeList10x10_1[i])\n",
    "\n",
    "interprateResults(maxResult10x10_1, resultsList10x10_1, bestResultsTimeList10x10_1, perfectResultsTimeList10x10_1)"
   ]
  },
  {
   "cell_type": "markdown",
   "metadata": {},
   "source": [
    "As we can see, the genetic algorithm also does great here. We obtained a 100% solution at the expense of slightly longer computational time."
   ]
  },
  {
   "cell_type": "code",
   "execution_count": 24,
   "metadata": {},
   "outputs": [
    {
     "data": {
      "image/png": "[encoded data removed]",
      "text/plain": [
       "<Figure size 288x288 with 1 Axes>"
      ]
     },
     "metadata": {
      "needs_background": "light"
     },
     "output_type": "display_data"
    }
   ],
   "source": [
    "target_board =np.array([[0,0,0,0,1,1,1,0,0,0],\n",
    "                        [1,0,0,0,0,0,0,0,1,0],\n",
    "                        [0,0,1,1,0,0,0,0,0,0],\n",
    "                        [0,0,0,0,0,1,1,1,1,0],\n",
    "                        [0,1,0,1,0,0,0,0,0,0],\n",
    "                        [0,1,0,0,0,0,0,0,0,0],\n",
    "                        [0,0,0,0,0,0,0,0,1,0],\n",
    "                        [0,0,0,0,0,0,1,0,1,0],\n",
    "                        [0,0,0,1,1,0,0,0,1,0],\n",
    "                        [0,0,0,0,0,0,0,0,0,0]])\n",
    "plt.matshow(target_board)\n",
    "plt.show()"
   ]
  },
  {
   "cell_type": "code",
   "execution_count": 25,
   "metadata": {},
   "outputs": [
    {
     "name": "stdout",
     "output_type": "stream",
     "text": [
      "Number of hits = 20 / 20\n",
      "Number of shots fired = 100\n"
     ]
    },
    {
     "data": {
      "image/png": "[encoded data removed]",
      "text/plain": [
       "<Figure size 288x288 with 1 Axes>"
      ]
     },
     "metadata": {
      "needs_background": "light"
     },
     "output_type": "display_data"
    }
   ],
   "source": [
    "num_genes=target_board.size\n",
    "ga_instance = pygad.GA(num_generations=50,\n",
    "                    num_parents_mating=90,\n",
    "                    fitness_func=fitness_func,\n",
    "                    sol_per_pop=300,\n",
    "                    num_genes=target_board.size,\n",
    "                    gene_type=int,\n",
    "                    init_range_low=0,\n",
    "                    init_range_high=target_board.shape[0],\n",
    "                    mutation_percent_genes=1)\n",
    "ga_instance.run()\n",
    "solution, solution_fitness, solution_idx = ga_instance.best_solution()\n",
    "print(\"Number of hits = {solution_fitness}\".format(solution_fitness=solution_fitness), \"/ 20\")\n",
    "print(\"Number of shots fired =\", len(solution))\n",
    "showResults(solution)"
   ]
  },
  {
   "cell_type": "code",
   "execution_count": 26,
   "metadata": {},
   "outputs": [
    {
     "name": "stdout",
     "output_type": "stream",
     "text": [
      "Average hits of all solutions =  0.9995\n",
      "Number of solutions better than or equal to 90% effectiveness =  100\n",
      "Average time of solutions better than or equal to 90% effectiveness =  1.1171635484695435\n",
      "Number of perfect solutions =  99\n",
      "Average time of perfect solutions =  1.1171976773425787\n"
     ]
    }
   ],
   "source": [
    "maxResult10x10_2 = 20\n",
    "resultsList10x10_2 = []\n",
    "timeList10x10_2 = []\n",
    "bestResultsTimeList10x10_2 = []\n",
    "perfectResultsTimeList10x10_2 = []\n",
    "\n",
    "for i in range(100):\n",
    "    start = time.time()\n",
    "    ga_instance = pygad.GA(num_generations=50,\n",
    "                        num_parents_mating=90,\n",
    "                        fitness_func=fitness_func,\n",
    "                        sol_per_pop=300,\n",
    "                        num_genes=target_board.size,\n",
    "                        gene_type=int,\n",
    "                        init_range_low=0,\n",
    "                        init_range_high=target_board.shape[0],\n",
    "                        mutation_percent_genes=1)\n",
    "    ga_instance.run()\n",
    "    end = time.time()\n",
    "    solution, solution_fitness, solution_idx = ga_instance.best_solution()\n",
    "\n",
    "    resultsList10x10_2.append(solution_fitness)\n",
    "    timeList10x10_2.append(end - start)\n",
    "\n",
    "for i in range(100):\n",
    "    if resultsList10x10_2[i] == maxResult10x10_2:\n",
    "        perfectResultsTimeList10x10_2.append(timeList10x10_2[i])\n",
    "    if resultsList10x10_2[i]/maxResult10x10_2 >= 0.9:\n",
    "        bestResultsTimeList10x10_2.append(timeList10x10_2[i])\n",
    "\n",
    "interprateResults(maxResult10x10_2, resultsList10x10_2, bestResultsTimeList10x10_2, perfectResultsTimeList10x10_2)"
   ]
  },
  {
   "cell_type": "code",
   "execution_count": 27,
   "metadata": {},
   "outputs": [
    {
     "data": {
      "image/png": "[encoded data removed]",
      "text/plain": [
       "<Figure size 288x288 with 1 Axes>"
      ]
     },
     "metadata": {
      "needs_background": "light"
     },
     "output_type": "display_data"
    }
   ],
   "source": [
    "target_board =np.array([[0,0,0,0,0,0,0,0,0,0],\n",
    "                        [0,1,0,0,0,1,0,1,1,0],\n",
    "                        [0,0,0,1,0,1,0,0,0,0],\n",
    "                        [0,0,0,1,0,0,0,0,0,0],\n",
    "                        [0,0,0,1,0,1,1,1,0,0],\n",
    "                        [0,0,0,1,0,0,0,0,0,0],\n",
    "                        [0,0,0,0,0,1,1,1,0,0],\n",
    "                        [0,0,1,0,0,0,0,0,0,0],\n",
    "                        [0,0,1,0,0,0,0,0,0,0],\n",
    "                        [0,0,0,0,0,1,0,1,0,1]])\n",
    "plt.matshow(target_board)\n",
    "plt.show()"
   ]
  },
  {
   "cell_type": "code",
   "execution_count": 28,
   "metadata": {},
   "outputs": [
    {
     "name": "stdout",
     "output_type": "stream",
     "text": [
      "Number of hits = 20 / 20\n",
      "Number of shots fired = 100\n"
     ]
    },
    {
     "data": {
      "image/png": "[encoded data removed]",
      "text/plain": [
       "<Figure size 288x288 with 1 Axes>"
      ]
     },
     "metadata": {
      "needs_background": "light"
     },
     "output_type": "display_data"
    }
   ],
   "source": [
    "num_genes=target_board.size\n",
    "ga_instance = pygad.GA(num_generations=50,\n",
    "                    num_parents_mating=90,\n",
    "                    fitness_func=fitness_func,\n",
    "                    sol_per_pop=300,\n",
    "                    num_genes=target_board.size,\n",
    "                    gene_type=int,\n",
    "                    init_range_low=0,\n",
    "                    init_range_high=target_board.shape[0],\n",
    "                    mutation_percent_genes=1)\n",
    "ga_instance.run()\n",
    "solution, solution_fitness, solution_idx = ga_instance.best_solution()\n",
    "print(\"Number of hits = {solution_fitness}\".format(solution_fitness=solution_fitness), \"/ 20\")\n",
    "print(\"Number of shots fired =\", len(solution))\n",
    "showResults(solution)"
   ]
  },
  {
   "cell_type": "code",
   "execution_count": 29,
   "metadata": {},
   "outputs": [
    {
     "name": "stdout",
     "output_type": "stream",
     "text": [
      "Average hits of all solutions =  0.9984999999999999\n",
      "Number of solutions better than or equal to 90% effectiveness =  100\n",
      "Average time of solutions better than or equal to 90% effectiveness =  1.0845398426055908\n",
      "Number of perfect solutions =  97\n",
      "Average time of perfect solutions =  1.085600344176145\n"
     ]
    }
   ],
   "source": [
    "maxResult10x10_3 = 20\n",
    "resultsList10x10_3 = []\n",
    "timeList10x10_3 = []\n",
    "bestResultsTimeList10x10_3 = []\n",
    "perfectResultsTimeList10x10_3 = []\n",
    "\n",
    "for i in range(100):\n",
    "    start = time.time()\n",
    "    ga_instance = pygad.GA(num_generations=50,\n",
    "                        num_parents_mating=90,\n",
    "                        fitness_func=fitness_func,\n",
    "                        sol_per_pop=300,\n",
    "                        num_genes=target_board.size,\n",
    "                        gene_type=int,\n",
    "                        init_range_low=0,\n",
    "                        init_range_high=target_board.shape[0],\n",
    "                        mutation_percent_genes=1)\n",
    "    ga_instance.run()\n",
    "    end = time.time()\n",
    "    solution, solution_fitness, solution_idx = ga_instance.best_solution()\n",
    "\n",
    "    resultsList10x10_3.append(solution_fitness)\n",
    "    timeList10x10_3.append(end - start)\n",
    "\n",
    "for i in range(100):\n",
    "    if resultsList10x10_3[i] == maxResult10x10_3:\n",
    "        perfectResultsTimeList10x10_3.append(timeList10x10_3[i])\n",
    "    if resultsList10x10_3[i]/maxResult10x10_3 >= 0.9:\n",
    "        bestResultsTimeList10x10_3.append(timeList10x10_3[i])\n",
    "\n",
    "interprateResults(maxResult10x10_3, resultsList10x10_3, bestResultsTimeList10x10_3, perfectResultsTimeList10x10_3)"
   ]
  },
  {
   "cell_type": "markdown",
   "metadata": {},
   "source": [
    "In all three examples, the result was excellent."
   ]
  },
  {
   "cell_type": "markdown",
   "metadata": {},
   "source": [
    "Now let's set up a non-standard version of the ship game on a 15x15 board, where we will add a ship of size 6 and many smaller ones accordingly."
   ]
  },
  {
   "cell_type": "code",
   "execution_count": 30,
   "metadata": {},
   "outputs": [
    {
     "data": {
      "image/png": "[encoded data removed]",
      "text/plain": [
       "<Figure size 288x288 with 1 Axes>"
      ]
     },
     "metadata": {
      "needs_background": "light"
     },
     "output_type": "display_data"
    }
   ],
   "source": [
    "target_board = np.array([[1,1,1,1,1,1,0,0,1,0,0,0,0,0,0],\n",
    "                         [0,0,0,0,0,0,0,0,1,0,0,1,0,0,0],\n",
    "                         [1,1,1,1,1,0,0,0,0,0,0,0,0,0,0],\n",
    "                         [0,0,0,0,0,0,0,0,0,0,0,1,0,1,0],\n",
    "                         [1,1,1,1,1,0,0,0,0,0,0,1,0,0,0],\n",
    "                         [0,0,0,0,0,0,0,0,0,0,0,0,0,0,0],\n",
    "                         [1,1,1,1,0,0,1,0,0,0,0,0,0,1,0],\n",
    "                         [0,0,0,0,0,0,1,0,0,0,0,0,0,0,0],\n",
    "                         [1,1,1,1,0,0,0,0,0,0,0,0,1,0,0],\n",
    "                         [0,0,0,0,0,0,0,0,0,0,0,0,0,0,0],\n",
    "                         [1,1,1,1,0,0,1,1,0,0,0,0,0,0,0],\n",
    "                         [0,0,0,0,0,0,0,0,0,0,0,0,0,1,0],\n",
    "                         [1,1,1,0,1,1,1,0,1,0,0,0,0,0,0],\n",
    "                         [0,0,0,0,0,0,0,0,1,0,0,1,0,0,0],\n",
    "                         [1,1,1,0,1,1,1,0,0,0,0,0,0,0,0]])\n",
    "plt.matshow(target_board)\n",
    "plt.show()"
   ]
  },
  {
   "cell_type": "markdown",
   "metadata": {},
   "source": [
    "At this point, we can try to reduce the number of generations due to the longer execution time of the algorithm. The problem becomes complicated, so if the results are unsatisfactory, we can always increase their number."
   ]
  },
  {
   "cell_type": "markdown",
   "metadata": {},
   "source": [
    "Let us assume a correspondingly larger population and parents."
   ]
  },
  {
   "cell_type": "code",
   "execution_count": 32,
   "metadata": {},
   "outputs": [
    {
     "name": "stdout",
     "output_type": "stream",
     "text": [
      "Number of hits = 56 / 56\n",
      "Number of shots fired = 226\n"
     ]
    },
    {
     "data": {
      "image/png": "[encoded data removed]",
      "text/plain": [
       "<Figure size 288x288 with 1 Axes>"
      ]
     },
     "metadata": {
      "needs_background": "light"
     },
     "output_type": "display_data"
    }
   ],
   "source": [
    "ga_instance = pygad.GA(num_generations=50,\n",
    "                       num_parents_mating=250,\n",
    "                       fitness_func=fitness_func,\n",
    "                       sol_per_pop=500,\n",
    "                       num_genes=target_board.size+1,\n",
    "                       gene_type=int,\n",
    "                       init_range_low=0,\n",
    "                       init_range_high=target_board.shape[0],\n",
    "                       mutation_percent_genes=1)\n",
    "ga_instance.run()\n",
    "solution, solution_fitness, solution_idx = ga_instance.best_solution()\n",
    "print(\"Number of hits = {solution_fitness}\".format(solution_fitness=solution_fitness), \"/ 56\")\n",
    "print(\"Number of shots fired =\", len(solution))\n",
    "showResults(solution)"
   ]
  },
  {
   "cell_type": "code",
   "execution_count": 33,
   "metadata": {},
   "outputs": [
    {
     "name": "stdout",
     "output_type": "stream",
     "text": [
      "Average hits of all solutions =  0.9992857142857143\n",
      "Number of solutions better than or equal to 90% effectiveness =  100\n",
      "Average time of solutions better than or equal to 90% effectiveness =  3.7526686906814577\n",
      "Number of perfect solutions =  96\n",
      "Average time of perfect solutions =  3.7479730447133384\n"
     ]
    }
   ],
   "source": [
    "maxResult15x15_1 = 56\n",
    "resultsList15x15_1 = []\n",
    "timeList15x15_1 = []\n",
    "bestResultsTimeList15x15_1 = []\n",
    "perfectResultsTimeList15x15_1 = []\n",
    "\n",
    "for i in range(100):\n",
    "    start = time.time()\n",
    "    ga_instance = pygad.GA(num_generations=50,\n",
    "                       num_parents_mating=250,\n",
    "                       fitness_func=fitness_func,\n",
    "                       sol_per_pop=500,\n",
    "                       num_genes=target_board.size+1,\n",
    "                       gene_type=int,\n",
    "                       init_range_low=0,\n",
    "                       init_range_high=target_board.shape[0],\n",
    "                       mutation_percent_genes=1)\n",
    "    ga_instance.run()\n",
    "    end = time.time()\n",
    "    solution, solution_fitness, solution_idx = ga_instance.best_solution()\n",
    "\n",
    "    resultsList15x15_1.append(solution_fitness)\n",
    "    timeList15x15_1.append(end - start)\n",
    "\n",
    "for i in range(100):\n",
    "    if resultsList15x15_1[i] == maxResult15x15_1:\n",
    "        perfectResultsTimeList15x15_1.append(timeList15x15_1[i])\n",
    "    if resultsList15x15_1[i]/maxResult15x15_1 >= 0.9:\n",
    "        bestResultsTimeList15x15_1.append(timeList15x15_1[i])\n",
    "\n",
    "interprateResults(maxResult15x15_1, resultsList15x15_1, bestResultsTimeList15x15_1, perfectResultsTimeList15x15_1)"
   ]
  },
  {
   "cell_type": "markdown",
   "metadata": {},
   "source": [
    "As we can see, we can obtain a perfect solution, but all of the 100 solutions were better than 90% effective."
   ]
  },
  {
   "cell_type": "code",
   "execution_count": 34,
   "metadata": {},
   "outputs": [
    {
     "data": {
      "image/png": "[encoded data removed]",
      "text/plain": [
       "<Figure size 288x288 with 1 Axes>"
      ]
     },
     "metadata": {
      "needs_background": "light"
     },
     "output_type": "display_data"
    }
   ],
   "source": [
    "target_board =np.array([[0,1,1,1,1,1,0,1,0,0,0,0,1,1,1],\n",
    "                        [0,0,0,0,0,0,0,1,0,0,0,0,0,0,0],\n",
    "                        [1,1,1,1,1,0,0,1,0,0,0,1,1,1,0],\n",
    "                        [0,0,0,0,0,0,0,1,0,0,0,0,0,0,0],\n",
    "                        [0,0,0,0,0,0,0,1,0,0,1,1,1,0,0],\n",
    "                        [0,0,1,1,0,0,0,1,0,0,0,0,0,0,0],\n",
    "                        [0,0,0,0,0,0,0,0,0,1,1,1,0,0,0],\n",
    "                        [0,1,0,0,0,1,0,0,0,0,0,0,0,0,0],\n",
    "                        [0,0,0,1,0,1,0,0,0,0,0,0,1,0,0],\n",
    "                        [1,0,0,0,0,0,0,0,0,1,1,0,1,0,0],\n",
    "                        [0,0,0,0,0,0,0,0,0,0,0,0,0,0,0],\n",
    "                        [0,1,1,1,1,0,1,0,0,0,1,0,0,1,0],\n",
    "                        [0,0,0,0,0,0,1,0,0,0,0,0,0,1,0],\n",
    "                        [0,1,1,1,1,0,1,0,0,0,1,0,0,0,0],\n",
    "                        [0,0,0,0,0,0,1,0,0,0,0,0,1,0,0]])\n",
    "plt.matshow(target_board)\n",
    "plt.show()"
   ]
  },
  {
   "cell_type": "code",
   "execution_count": 35,
   "metadata": {},
   "outputs": [
    {
     "name": "stdout",
     "output_type": "stream",
     "text": [
      "Number of hits = 56 / 56\n",
      "Number of shots fired = 226\n"
     ]
    },
    {
     "data": {
      "image/png": "[encoded data removed]",
      "text/plain": [
       "<Figure size 288x288 with 1 Axes>"
      ]
     },
     "metadata": {
      "needs_background": "light"
     },
     "output_type": "display_data"
    }
   ],
   "source": [
    "ga_instance = pygad.GA(num_generations=50,\n",
    "                    num_parents_mating=180,\n",
    "                    fitness_func=fitness_func,\n",
    "                    sol_per_pop=600,\n",
    "                    num_genes=target_board.size+1,\n",
    "                    gene_type=int,\n",
    "                    init_range_low=0,\n",
    "                    init_range_high=target_board.shape[0],\n",
    "                    mutation_percent_genes=1)\n",
    "ga_instance.run()\n",
    "solution, solution_fitness, solution_idx = ga_instance.best_solution()\n",
    "print(\"Number of hits = {solution_fitness}\".format(solution_fitness=solution_fitness), \"/ 56\")\n",
    "print(\"Number of shots fired =\", len(solution))\n",
    "showResults(solution)"
   ]
  },
  {
   "cell_type": "code",
   "execution_count": 36,
   "metadata": {},
   "outputs": [
    {
     "name": "stdout",
     "output_type": "stream",
     "text": [
      "Average hits of all solutions =  0.9896428571428572\n",
      "Number of solutions better than or equal to 90% effectiveness =  100\n",
      "Average time of solutions better than or equal to 90% effectiveness =  4.682340288162232\n",
      "Number of perfect solutions =  62\n",
      "Average time of perfect solutions =  4.6856451534455825\n"
     ]
    }
   ],
   "source": [
    "maxResult15x15_2 = 56\n",
    "resultsList15x15_2 = []\n",
    "timeList15x15_2 = []\n",
    "bestResultsTimeList15x15_2 = []\n",
    "perfectResultsTimeList15x15_2 = []\n",
    "\n",
    "for i in range(100):\n",
    "    start = time.time()\n",
    "    ga_instance = pygad.GA(num_generations=50,\n",
    "                    num_parents_mating=180,\n",
    "                    fitness_func=fitness_func,\n",
    "                    sol_per_pop=600,\n",
    "                    num_genes=target_board.size+1,\n",
    "                    gene_type=int,\n",
    "                    init_range_low=0,\n",
    "                    init_range_high=target_board.shape[0],\n",
    "                    mutation_percent_genes=1)\n",
    "    ga_instance.run()\n",
    "    end = time.time()\n",
    "    solution, solution_fitness, solution_idx = ga_instance.best_solution()\n",
    "\n",
    "    resultsList15x15_2.append(solution_fitness)\n",
    "    timeList15x15_2.append(end - start)\n",
    "\n",
    "for i in range(100):\n",
    "    if resultsList15x15_2[i] == maxResult15x15_2:\n",
    "        perfectResultsTimeList15x15_2.append(timeList15x15_2[i])\n",
    "    if resultsList15x15_2[i]/maxResult15x15_2 >= 0.9:\n",
    "        bestResultsTimeList15x15_2.append(timeList15x15_2[i])\n",
    "\n",
    "interprateResults(maxResult15x15_2, resultsList15x15_2, bestResultsTimeList15x15_2, perfectResultsTimeList15x15_2)"
   ]
  },
  {
   "cell_type": "markdown",
   "metadata": {},
   "source": [
    "In this example, the number of perfect solutions is even lower, while 100% of the solutions achieve an efficiency not worse than 90%."
   ]
  },
  {
   "cell_type": "markdown",
   "metadata": {},
   "source": [
    "Taking advantage of the fact that we still have a lot of space on the board, let's see how the algorithm will cope when we add a ship of 7 lengths and, respectively, smaller ones."
   ]
  },
  {
   "cell_type": "code",
   "execution_count": 37,
   "metadata": {},
   "outputs": [
    {
     "data": {
      "image/png": "[encoded data removed]",
      "text/plain": [
       "<Figure size 288x288 with 1 Axes>"
      ]
     },
     "metadata": {
      "needs_background": "light"
     },
     "output_type": "display_data"
    }
   ],
   "source": [
    "target_board = np.array([[1,1,1,1,1,1,1,0,1,1,0,1,1,0,0],\n",
    "                         [0,0,0,0,0,0,0,0,0,0,0,0,0,0,1],\n",
    "                         [1,1,1,1,1,1,0,1,1,0,1,0,1,0,0],\n",
    "                         [0,0,0,0,0,0,0,0,0,0,1,0,0,0,0],\n",
    "                         [1,1,1,1,1,1,0,1,1,0,0,0,1,0,0],\n",
    "                         [0,0,0,0,0,0,0,0,0,0,1,0,0,0,0],\n",
    "                         [1,1,1,1,1,0,1,1,1,0,1,0,1,0,0],\n",
    "                         [0,0,0,0,0,0,0,0,0,0,0,0,0,0,0],\n",
    "                         [1,1,1,1,1,0,1,1,1,0,1,0,0,1,0],\n",
    "                         [0,0,0,0,0,0,0,0,0,0,1,0,0,0,0],\n",
    "                         [1,1,1,1,1,0,1,1,1,0,1,0,0,1,0],\n",
    "                         [0,0,0,0,0,0,0,0,0,0,0,0,0,0,0],\n",
    "                         [1,1,1,1,0,1,1,1,1,0,1,0,0,0,0],\n",
    "                         [0,0,0,0,0,0,0,0,0,0,1,0,0,1,0],\n",
    "                         [1,1,1,1,0,1,1,1,1,0,1,0,0,0,0],])\n",
    "plt.matshow(target_board)\n",
    "plt.show()"
   ]
  },
  {
   "cell_type": "markdown",
   "metadata": {},
   "source": [
    "Our board is already very full."
   ]
  },
  {
   "cell_type": "code",
   "execution_count": 39,
   "metadata": {},
   "outputs": [
    {
     "name": "stdout",
     "output_type": "stream",
     "text": [
      "Number of hits = 83 / 84\n",
      "Number of shots fired = 226\n"
     ]
    },
    {
     "data": {
      "image/png": "[encoded data removed]",
      "text/plain": [
       "<Figure size 288x288 with 1 Axes>"
      ]
     },
     "metadata": {
      "needs_background": "light"
     },
     "output_type": "display_data"
    }
   ],
   "source": [
    "ga_instance = pygad.GA(num_generations=100,\n",
    "                       num_parents_mating=250,\n",
    "                       fitness_func=fitness_func,\n",
    "                       sol_per_pop=500,\n",
    "                       num_genes=target_board.size+1,\n",
    "                       gene_type=int,\n",
    "                       init_range_low=0,\n",
    "                       init_range_high=target_board.shape[0],\n",
    "                       mutation_percent_genes=1)\n",
    "ga_instance.run()\n",
    "solution, solution_fitness, solution_idx = ga_instance.best_solution()\n",
    "print(\"Number of hits = {solution_fitness}\".format(solution_fitness=solution_fitness), \"/ 84\")\n",
    "print(\"Number of shots fired =\", len(solution))\n",
    "showResults(solution)"
   ]
  },
  {
   "cell_type": "code",
   "execution_count": 40,
   "metadata": {},
   "outputs": [
    {
     "name": "stdout",
     "output_type": "stream",
     "text": [
      "Average hits of all solutions =  0.94\n",
      "Number of solutions better than or equal to 90% effectiveness =  99\n",
      "Average time of solutions better than or equal to 90% effectiveness =  3.775346861945258\n",
      "Number of perfect solutions =  0\n"
     ]
    }
   ],
   "source": [
    "maxResult15x15_3 = 84\n",
    "resultsList15x15_3 = []\n",
    "timeList15x15_3 = []\n",
    "bestResultsTimeList15x15_3 = []\n",
    "perfectResultsTimeList15x15_3 = []\n",
    "\n",
    "for i in range(100):\n",
    "    start = time.time()\n",
    "    ga_instance = pygad.GA(num_generations=50,\n",
    "                       num_parents_mating=250,\n",
    "                       fitness_func=fitness_func,\n",
    "                       sol_per_pop=500,\n",
    "                       num_genes=target_board.size+1,\n",
    "                       gene_type=int,\n",
    "                       init_range_low=0,\n",
    "                       init_range_high=target_board.shape[0],\n",
    "                       mutation_percent_genes=1)\n",
    "    ga_instance.run()\n",
    "    end = time.time()\n",
    "    solution, solution_fitness, solution_idx = ga_instance.best_solution()\n",
    "\n",
    "    resultsList15x15_3.append(solution_fitness)\n",
    "    timeList15x15_3.append(end - start)\n",
    "\n",
    "for i in range(100):\n",
    "    if resultsList15x15_3[i] == maxResult15x15_3:\n",
    "        perfectResultsTimeList15x15_3.append(timeList15x15_3[i])\n",
    "    if resultsList15x15_3[i]/maxResult15x15_3 >= 0.9:\n",
    "        bestResultsTimeList15x15_3.append(timeList15x15_3[i])\n",
    "\n",
    "interprateResults(maxResult15x15_3, resultsList15x15_3, bestResultsTimeList15x15_3, perfectResultsTimeList15x15_3)"
   ]
  },
  {
   "cell_type": "markdown",
   "metadata": {},
   "source": [
    "Unfortunately, the program did not cope with this task as well as with the previous ones. He failed to achieve any perfect result. Perhaps it is more difficult for him to find the pattern with such input data."
   ]
  },
  {
   "cell_type": "markdown",
   "metadata": {},
   "source": [
    "However, the tested cases had an average of 94% hits."
   ]
  },
  {
   "cell_type": "markdown",
   "metadata": {},
   "source": []
  },
  {
   "cell_type": "markdown",
   "metadata": {},
   "source": [
    "Now let's compare a genetic algorithm to an ant colony."
   ]
  },
  {
   "cell_type": "markdown",
   "metadata": {},
   "source": [
    "Let's determine the coordinates of the fields where the ships sail."
   ]
  },
  {
   "cell_type": "code",
   "execution_count": 41,
   "metadata": {},
   "outputs": [],
   "source": [
    "COORDS5x5_1 = (\n",
    "    (0,0),(0,1),(0,2),(0,4),(2,0),\n",
    "    (2,1),(2,3),(4,0),(4,1),(4,3)\n",
    ")"
   ]
  },
  {
   "cell_type": "code",
   "execution_count": 42,
   "metadata": {},
   "outputs": [],
   "source": [
    "%%capture test\n",
    "start = time.time()\n",
    "\n",
    "colony = AntColony(COORDS5x5_1, ant_count=100, alpha=0.5, beta=1.2, \n",
    "                    pheromone_evaporation_rate=0.40, pheromone_constant=1000.0,\n",
    "                    iterations=100)\n",
    "\n",
    "optimal_nodes = colony.get_path()\n",
    "optimal_nodes = list(dict.fromkeys(optimal_nodes)) #remove duplicates\n",
    "end = time.time()\n",
    "colonyTime5x5_1 = end - start"
   ]
  },
  {
   "cell_type": "code",
   "execution_count": 43,
   "metadata": {},
   "outputs": [
    {
     "name": "stdout",
     "output_type": "stream",
     "text": [
      "Number of hits =  10 / 10\n"
     ]
    }
   ],
   "source": [
    "hits = 0\n",
    "for i in COORDS5x5_1:\n",
    "    for j in optimal_nodes:\n",
    "        if i == j:\n",
    "            hits += 1\n",
    "print(\"Number of hits = \", hits, \"/ 10\")"
   ]
  },
  {
   "cell_type": "markdown",
   "metadata": {},
   "source": [
    "As we can see, for a 5x5 board the colony did very well.\n"
   ]
  },
  {
   "cell_type": "code",
   "execution_count": 45,
   "metadata": {},
   "outputs": [],
   "source": [
    "target_board = np.array([[1,1,1,1,0,0,0,0,0,0],\n",
    "                            [0,0,0,0,0,0,0,0,0,0],\n",
    "                            [1,1,1,0,0,0,0,0,0,0],\n",
    "                            [0,0,0,0,0,0,0,0,0,0],\n",
    "                            [1,1,1,0,0,0,0,0,0,0],\n",
    "                            [0,0,0,0,0,0,0,0,0,0],\n",
    "                            [1,1,0,1,1,0,0,0,0,0],\n",
    "                            [0,0,0,0,0,0,0,0,0,0],\n",
    "                            [1,1,0,1,0,1,0,1,0,1],\n",
    "                            [0,0,0,0,0,0,0,0,0,0]])"
   ]
  },
  {
   "cell_type": "markdown",
   "metadata": {},
   "source": [
    "Let's check the same for size 10x10."
   ]
  },
  {
   "cell_type": "code",
   "execution_count": 53,
   "metadata": {},
   "outputs": [],
   "source": [
    "COORDS10x10_1 = (\n",
    "    (0,0),(0,1),(0,2),(0,3),(2,0),(2,1),(2,2),(4,0),(4,1),(4,2),\n",
    "    (6,0),(6,1),(6,3),(6,4),(8,0),(8,1),(8,3),(8,5),(8,7),(8,9)\n",
    ")"
   ]
  },
  {
   "cell_type": "code",
   "execution_count": 54,
   "metadata": {},
   "outputs": [],
   "source": [
    "%%capture test\n",
    "start = time.time()\n",
    "colony = AntColony(COORDS10x10_1, ant_count=100, alpha=0.5, beta=1.2, \n",
    "                    pheromone_evaporation_rate=0.40, pheromone_constant=1000.0,\n",
    "                    iterations=100)\n",
    "\n",
    "optimal_nodes = colony.get_path()\n",
    "optimal_nodes = list(dict.fromkeys(optimal_nodes)) #remove duplicates\n",
    "end = time.time()\n",
    "colonyTime10x10_1 = end - start"
   ]
  },
  {
   "cell_type": "code",
   "execution_count": 55,
   "metadata": {},
   "outputs": [
    {
     "name": "stdout",
     "output_type": "stream",
     "text": [
      "Number of hits =  20 / 20\n"
     ]
    }
   ],
   "source": [
    "hits = 0\n",
    "for i in COORDS10x10_1:\n",
    "    for j in optimal_nodes:\n",
    "        if i == j:\n",
    "            hits += 1\n",
    "print(\"Number of hits = \", hits, \"/ 20\")"
   ]
  },
  {
   "cell_type": "markdown",
   "metadata": {},
   "source": [
    "In this case, the result is also satisfactory."
   ]
  },
  {
   "cell_type": "markdown",
   "metadata": {},
   "source": [
    "Let's see 15x15 at the end."
   ]
  },
  {
   "cell_type": "code",
   "execution_count": 56,
   "metadata": {},
   "outputs": [],
   "source": [
    "COORDS15x15_1 = (\n",
    "    (0,0),(0,1),(0,2),(0,3),(0,4),(0,5),(0,8),(1,8),(0,11),(2,0),(2,1),(2,2),(2,3),(2,4),\n",
    "    (3,13),(3,11),(4,0),(4,1),(4,2),(4,3),(4,4),(4,11),(6,0),(6,1),(6,2),(6,3),(6,6),(6,13),\n",
    "    (7,6),(8,0),(8,1),(8,2),(8,3),(8,12),(10,0),(10,1),(10,2),(10,3),(10,7),(10,8),(11,13),(12,0),\n",
    "    (12,1),(12,2),(12,4),(12,5),(12,6),(12,8),(13,8),(13,11),(14,0),(14,1),(14,2),(14,4),(14,5),(14,6),\n",
    ")"
   ]
  },
  {
   "cell_type": "code",
   "execution_count": 61,
   "metadata": {},
   "outputs": [],
   "source": [
    "%%capture test\n",
    "start = time.time()\n",
    "colony = AntColony(COORDS15x15_1, ant_count=100, alpha=0.5, beta=1.2, \n",
    "                    pheromone_evaporation_rate=0.40, pheromone_constant=1000.0,\n",
    "                    iterations=100)\n",
    "\n",
    "optimal_nodes = colony.get_path()\n",
    "optimal_nodes = list(dict.fromkeys(optimal_nodes)) #remove duplicates\n",
    "end = time.time()\n",
    "colonyTime15x15_1 = end - start"
   ]
  },
  {
   "cell_type": "code",
   "execution_count": 62,
   "metadata": {},
   "outputs": [
    {
     "name": "stdout",
     "output_type": "stream",
     "text": [
      "Number of hits =  56 / 56\n"
     ]
    }
   ],
   "source": [
    "hits = 0\n",
    "for i in COORDS15x15_1:\n",
    "    for j in optimal_nodes:\n",
    "        if i == j:\n",
    "            hits += 1\n",
    "print(\"Number of hits = \", hits, \"/ 56\")"
   ]
  },
  {
   "cell_type": "markdown",
   "metadata": {},
   "source": [
    "Finally, let's compare the time needed for calculations for individual cases."
   ]
  },
  {
   "cell_type": "code",
   "execution_count": 64,
   "metadata": {},
   "outputs": [
    {
     "data": {
      "image/png": "[encoded data removed]",
      "text/plain": [
       "<Figure size 720x360 with 1 Axes>"
      ]
     },
     "metadata": {
      "needs_background": "light"
     },
     "output_type": "display_data"
    }
   ],
   "source": [
    "data = {'5x5_1': 0.5070, '5x5_2': 0.5131, '5x5_3': 0.5287,\n",
    "        '10x10_1': 3.3107, '10x10_2': 1.6774, '10x10_3': 1.6736,\n",
    "        '15x15_1': 5.6761, '15x15_2': 6.6170, '15x15_3': 6.0706,\n",
    "        }\n",
    "courses = list(data.keys())\n",
    "values = list(data.values())\n",
    "  \n",
    "fig = plt.figure(figsize = (10, 5))\n",
    " \n",
    "# creating the bar plot\n",
    "plt.bar(courses, values, color ='green',\n",
    "        width = 0.4)\n",
    " \n",
    "plt.xlabel(\"Various sizes of genetic algorithm boards\")\n",
    "plt.ylabel(\"Time needed for algorithms\")\n",
    "plt.title(\"Comparison of the time needed by the algorithms\")\n",
    "plt.show()"
   ]
  },
  {
   "cell_type": "markdown",
   "metadata": {},
   "source": [
    "Intuitively, the larger the board, the more time the algorithm needs."
   ]
  },
  {
   "cell_type": "markdown",
   "metadata": {},
   "source": [
    "But why did it take the algorithm almost twice as long to solve the first 10x10 board? Let's take a look at this arrangement again."
   ]
  },
  {
   "cell_type": "code",
   "execution_count": 65,
   "metadata": {},
   "outputs": [
    {
     "data": {
      "image/png": "[encoded data removed]",
      "text/plain": [
       "<Figure size 288x288 with 1 Axes>"
      ]
     },
     "metadata": {
      "needs_background": "light"
     },
     "output_type": "display_data"
    }
   ],
   "source": [
    "target_board = np.array([[1,1,1,1,0,0,0,0,0,0],\n",
    "                            [0,0,0,0,0,0,0,0,0,0],\n",
    "                            [1,1,1,0,0,0,0,0,0,0],\n",
    "                            [0,0,0,0,0,0,0,0,0,0],\n",
    "                            [1,1,1,0,0,0,0,0,0,0],\n",
    "                            [0,0,0,0,0,0,0,0,0,0],\n",
    "                            [1,1,0,1,1,0,0,0,0,0],\n",
    "                            [0,0,0,0,0,0,0,0,0,0],\n",
    "                            [1,1,0,1,0,1,0,1,0,1],\n",
    "                            [0,0,0,0,0,0,0,0,0,0]])\n",
    "plt.matshow(target_board)\n",
    "plt.show()"
   ]
  },
  {
   "cell_type": "markdown",
   "metadata": {},
   "source": [
    "It is quite non-standard, which may affect the time needed to find the best solution."
   ]
  },
  {
   "cell_type": "markdown",
   "metadata": {},
   "source": [
    "Let's compare genetic algorithms to an ant colony."
   ]
  },
  {
   "cell_type": "code",
   "execution_count": 67,
   "metadata": {},
   "outputs": [
    {
     "data": {
      "image/png": "[encoded data removed]",
      "text/plain": [
       "<Figure size 720x360 with 1 Axes>"
      ]
     },
     "metadata": {
      "needs_background": "light"
     },
     "output_type": "display_data"
    }
   ],
   "source": [
    "data = {'5x5_1': 0.5070, '5x5_2': 0.5131, '5x5_3': 0.5287,\n",
    "        '10x10_1': 3.3107, '10x10_2': 1.6774, '10x10_3': 1.6736,\n",
    "        '15x15_1': 5.6761, '15x15_2': 6.6170, '15x15_3': 6.0706,\n",
    "        'R5x5_1': colonyTime5x5_1, 'R10x10_1': colonyTime10x10_1, 'R15x15_1': colonyTime15x15_1,\n",
    "        }\n",
    "courses = list(data.keys())\n",
    "values = list(data.values())\n",
    "  \n",
    "fig = plt.figure(figsize = (10, 5))\n",
    " \n",
    "# creating the bar plot\n",
    "plt.bar(courses, values, color ='green',\n",
    "        width = 0.4)\n",
    " \n",
    "plt.xlabel(\"The best solutions of genetic algorithms and ant colonies\")\n",
    "plt.ylabel(\"Time needed for algorithms\")\n",
    "plt.title(\"Comparison of the time needed by the algorithms\")\n",
    "plt.show()"
   ]
  },
  {
   "cell_type": "markdown",
   "metadata": {},
   "source": [
    "As we can see, the gap is huge, and although the colonies did quite well, they are clearly not made for the ship game.\n"
   ]
  }
 ],
 "metadata": {
  "kernelspec": {
   "display_name": "Python 3 (ipykernel)",
   "language": "python",
   "name": "python3"
  },
  "language_info": {
   "codemirror_mode": {
    "name": "ipython",
    "version": 3
   },
   "file_extension": ".py",
   "mimetype": "text/x-python",
   "name": "python",
   "nbconvert_exporter": "python",
   "pygments_lexer": "ipython3",
   "version": "3.10.11"
  },
  "vscode": {
   "interpreter": {
    "hash": "4b8807a6659b478bf6d334f9a928f1059f89667802e01f90bbb676cd94a15ae8"
   }
  }
 },
 "nbformat": 4,
 "nbformat_minor": 2
}
