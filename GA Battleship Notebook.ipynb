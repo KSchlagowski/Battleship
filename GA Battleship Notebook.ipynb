{
 "cells": [
  {
   "cell_type": "markdown",
   "metadata": {},
   "source": [
    "Kamil Schlagowski 269402"
   ]
  },
  {
   "cell_type": "markdown",
   "metadata": {},
   "source": [
    "W tej pracy postaramy się użyć algorytmów genetycznych do znalezienia rozwiązania gry w statki (zatopienia wszystkich rozstawionych na planszy)."
   ]
  },
  {
   "cell_type": "code",
   "execution_count": 114,
   "metadata": {},
   "outputs": [],
   "source": [
    "import pygad\n",
    "import numpy as np\n",
    "import matplotlib.pyplot as plt\n",
    "import seaborn as sns\n",
    "import pandas as pd\n",
    "import time\n",
    "from statistics import mean \n",
    "from aco import AntColony"
   ]
  },
  {
   "cell_type": "markdown",
   "metadata": {},
   "source": [
    "Zainicjalizujmy zmienne potrzebne do funkcji."
   ]
  },
  {
   "cell_type": "code",
   "execution_count": 2,
   "metadata": {},
   "outputs": [],
   "source": [
    "board_size = 10\n",
    "target_board = np.zeros((board_size, board_size))\n",
    "board = np.zeros((board_size, board_size))\n",
    "maxResult = 10\n",
    "resultsList = []\n",
    "timeList = []\n",
    "bestResultsTimeList = []\n",
    "perfectResultsTimeList = []"
   ]
  },
  {
   "cell_type": "markdown",
   "metadata": {},
   "source": [
    "Będzie nam potrzebna prosta funkcja fitness, która będzie porównywać planszę z przyjętym parametrem solution. Na podstawie tych danych dowiemy się ile statków udało się zatopić algorytmowi."
   ]
  },
  {
   "cell_type": "code",
   "execution_count": 46,
   "metadata": {},
   "outputs": [],
   "source": [
    "def fitness_func(solution, solution_idx):\n",
    "    board = np.zeros((len(target_board), len(target_board)))\n",
    "\n",
    "    for i in range(0, len(solution), 2):\n",
    "        row = solution[i]\n",
    "        col = solution[i+1]\n",
    "        board[row][col] = 1\n",
    "\n",
    "    # Obliczenie liczby trafień\n",
    "    hits = 0\n",
    "    for i in range(len(target_board)):\n",
    "        for j in range(len(target_board)):\n",
    "            if board[i][j] == 1 and target_board[i][j] == 1:\n",
    "                hits += 1\n",
    "    return hits"
   ]
  },
  {
   "cell_type": "markdown",
   "metadata": {},
   "source": [
    "Funkcja showResults() posłuży nam do wizualizacji otrzymanego wyniku. Statki na planszy zostaną pokolorowane na żółto. Te które zostaną trafione pozostaną żółte, na niebiesko podświetlą się nietrafione miejsca."
   ]
  },
  {
   "cell_type": "code",
   "execution_count": 4,
   "metadata": {},
   "outputs": [],
   "source": [
    "def showResults(solution):\n",
    "    result = np.copy(target_board)\n",
    "    board = np.zeros((len(target_board), len(target_board)))\n",
    "    for i in range(0, len(solution), 2):\n",
    "        row = solution[i]\n",
    "        col = solution[i+1]\n",
    "        board[row][col] = 1\n",
    "\n",
    "    for i in range(len(result)):\n",
    "        for j in range(len(result[0])):\n",
    "            if target_board[i][j] == board[i][j]:\n",
    "                result[i][j] += board[i][j]\n",
    "    plt.matshow(result)\n",
    "    plt.show()\n",
    "    "
   ]
  },
  {
   "cell_type": "markdown",
   "metadata": {},
   "source": [
    "Do lepszego zrozumienia skuteczności napisanych algorytmów posłuży nam interprateResults()."
   ]
  },
  {
   "cell_type": "code",
   "execution_count": 5,
   "metadata": {},
   "outputs": [],
   "source": [
    "def interprateResults(_maxResult, _resultsList, _bestResultsTimeList, _perfectResultsTimeList):\n",
    "    print(\"Srednia trafien wszystkich rozwiazan = \", mean([x / _maxResult for x in _resultsList]))                                \n",
    "    print(\"Liczba rozwiazan lepszych lub rownych 90% skutecznosci = \", len(_bestResultsTimeList))\n",
    "    if len(_bestResultsTimeList) > 0:\n",
    "        print(\"Srednia czasu rozwiazan lepszych lub rownych 90% skutecznosci = \", mean(_bestResultsTimeList))\n",
    "    print(\"Liczba rozwiazan idealnych = \", len(_perfectResultsTimeList))\n",
    "    if len(_perfectResultsTimeList) > 0:\n",
    "        print(\"Srednia czasu rozwiazan idealnych = \", mean(_perfectResultsTimeList))"
   ]
  },
  {
   "cell_type": "markdown",
   "metadata": {},
   "source": [
    "Zacznijmy od plansz 5x5. Stworzymy trzy przykładowe rozstawienia statków: 1x potrójny, 2x podwójny, 3x pojedyńczy. Zwizualizujmy ją od razu."
   ]
  },
  {
   "cell_type": "code",
   "execution_count": 112,
   "metadata": {},
   "outputs": [
    {
     "data": {
      "image/png": "[encoded data removed]",
      "text/plain": [
       "<Figure size 288x288 with 1 Axes>"
      ]
     },
     "metadata": {
      "needs_background": "light"
     },
     "output_type": "display_data"
    }
   ],
   "source": [
    "target_board = np.array([[1,1,1,0,1],\n",
    "                         [0,0,0,0,0],\n",
    "                         [1,1,0,1,0],\n",
    "                         [0,0,0,0,0],\n",
    "                         [1,1,0,1,0]])\n",
    "plt.matshow(target_board)\n",
    "plt.show()"
   ]
  },
  {
   "cell_type": "markdown",
   "metadata": {},
   "source": [
    "Zobaczmy na przykładzie jak będzie wyglądać nietrafione miejsce na statku. Ustalmy losową, niedobrą liczbę dla pokoleń, rodziców, populacji i mutacji."
   ]
  },
  {
   "cell_type": "code",
   "execution_count": 547,
   "metadata": {},
   "outputs": [
    {
     "name": "stdout",
     "output_type": "stream",
     "text": [
      "Liczba trafien = 9 / 10\n",
      "Liczba oddanych strzalow = 26\n"
     ]
    },
    {
     "data": {
      "image/png": "[encoded data removed]",
      "text/plain": [
       "<Figure size 288x288 with 1 Axes>"
      ]
     },
     "metadata": {
      "needs_background": "light"
     },
     "output_type": "display_data"
    }
   ],
   "source": [
    "ga_instance = pygad.GA(num_generations=3,\n",
    "                       num_parents_mating=4,\n",
    "                       fitness_func=fitness_func,\n",
    "                       sol_per_pop=10,\n",
    "                       num_genes=target_board.size+1,\n",
    "                       gene_type=int,\n",
    "                       mutation_percent_genes=5)\n",
    "ga_instance.run()\n",
    "solution, solution_fitness, solution_idx = ga_instance.best_solution()\n",
    "print(\"Liczba trafien = {solution_fitness}\".format(solution_fitness=solution_fitness), \"/ 10\")\n",
    "print(\"Liczba oddanych strzalow =\", len(solution))\n",
    "showResults(solution)"
   ]
  },
  {
   "cell_type": "markdown",
   "metadata": {},
   "source": [
    "Teraz zmieńmy wartość pokoleń na 100, choć wystarczy ich również znacznie mniejsza ilość."
   ]
  },
  {
   "cell_type": "markdown",
   "metadata": {},
   "source": [
    "Chromosomy będą długości wszystkich dostępnych pól na planszy +1 dla funkcji fitness, którą napisaliśmy tylko dla liczb parzystych. Czyli długość wyniesie 26."
   ]
  },
  {
   "cell_type": "markdown",
   "metadata": {},
   "source": [
    "Populację zatem ustawimy na 100."
   ]
  },
  {
   "cell_type": "markdown",
   "metadata": {},
   "source": [
    "Mutację weźmy najmniejszą, na jaką pozwala nam pygad, czyli 4."
   ]
  },
  {
   "cell_type": "code",
   "execution_count": 548,
   "metadata": {},
   "outputs": [
    {
     "name": "stdout",
     "output_type": "stream",
     "text": [
      "Srednia trafien wszystkich rozwiazan =  0.997\n",
      "Liczba rozwiazan lepszych lub rownych 90% skutecznosci =  100\n",
      "Srednia czasu rozwiazan lepszych lub rownych 90% skutecznosci =  0.5067929196357727\n",
      "Liczba rozwiazan idealnych =  97\n",
      "Srednia czasu rozwiazan idealnych =  0.507010359125039\n"
     ]
    }
   ],
   "source": [
    "maxResult5x5_1 = 10\n",
    "resultsList5x5_1 = []\n",
    "timeList5x5_1 = []\n",
    "bestResultsTimeList5x5_1 = []\n",
    "perfectResultsTimeList5x5_1 = []\n",
    "\n",
    "for i in range(100):\n",
    "    start = time.time()\n",
    "    ga_instance = pygad.GA(num_generations=100,\n",
    "                        num_parents_mating=30,\n",
    "                        fitness_func=fitness_func,\n",
    "                        sol_per_pop=100,\n",
    "                        num_genes=target_board.size+1,\n",
    "                        gene_type=int,\n",
    "                        mutation_percent_genes=4)\n",
    "    ga_instance.run()\n",
    "    end = time.time()\n",
    "    solution, solution_fitness, solution_idx = ga_instance.best_solution()\n",
    "\n",
    "    resultsList5x5_1.append(solution_fitness)\n",
    "    timeList5x5_1.append(end - start)\n",
    "\n",
    "for i in range(100):\n",
    "    if resultsList5x5_1[i] == maxResult5x5_1:\n",
    "        perfectResultsTimeList5x5_1.append(timeList5x5_1[i])\n",
    "    if resultsList5x5_1[i]/maxResult5x5_1 >= 0.9:\n",
    "        bestResultsTimeList5x5_1.append(timeList5x5_1[i])\n",
    "        \n",
    "interprateResults(maxResult5x5_1, resultsList5x5_1, bestResultsTimeList5x5_1, perfectResultsTimeList5x5_1)"
   ]
  },
  {
   "cell_type": "markdown",
   "metadata": {},
   "source": [
    "Jak widzimy skuteczność jest bardzo wysoka."
   ]
  },
  {
   "cell_type": "markdown",
   "metadata": {},
   "source": [
    "Przejdźmy do kolejnego przykładu."
   ]
  },
  {
   "cell_type": "code",
   "execution_count": 549,
   "metadata": {},
   "outputs": [
    {
     "data": {
      "image/png": "[encoded data removed]",
      "text/plain": [
       "<Figure size 288x288 with 1 Axes>"
      ]
     },
     "metadata": {
      "needs_background": "light"
     },
     "output_type": "display_data"
    }
   ],
   "source": [
    "target_board = np.array([[0,0,1,0,1],\n",
    "                         [1,0,1,0,1],\n",
    "                         [0,0,1,0,0],\n",
    "                         [1,0,0,0,0],\n",
    "                         [1,0,1,0,1]])\n",
    "plt.matshow(target_board)\n",
    "plt.show()"
   ]
  },
  {
   "cell_type": "code",
   "execution_count": 550,
   "metadata": {},
   "outputs": [
    {
     "name": "stdout",
     "output_type": "stream",
     "text": [
      "Liczba trafien = 10 / 10\n",
      "Liczba oddanych strzalow = 26\n"
     ]
    },
    {
     "data": {
      "image/png": "[encoded data removed]",
      "text/plain": [
       "<Figure size 288x288 with 1 Axes>"
      ]
     },
     "metadata": {
      "needs_background": "light"
     },
     "output_type": "display_data"
    }
   ],
   "source": [
    "ga_instance = pygad.GA(num_generations=100,\n",
    "                       num_parents_mating=30,\n",
    "                       fitness_func=fitness_func,\n",
    "                       sol_per_pop=100,\n",
    "                       num_genes=target_board.size+1,\n",
    "                       gene_type=int,\n",
    "                       mutation_percent_genes=4)\n",
    "ga_instance.run()\n",
    "solution, solution_fitness, solution_idx = ga_instance.best_solution()\n",
    "print(\"Liczba trafien = {solution_fitness}\".format(solution_fitness=solution_fitness), \"/ 10\")\n",
    "print(\"Liczba oddanych strzalow =\", len(solution))\n",
    "showResults(solution)"
   ]
  },
  {
   "cell_type": "code",
   "execution_count": 551,
   "metadata": {},
   "outputs": [
    {
     "name": "stdout",
     "output_type": "stream",
     "text": [
      "Srednia trafien wszystkich rozwiazan =  0.999\n",
      "Liczba rozwiazan lepszych lub rownych 90% skutecznosci =  100\n",
      "Srednia czasu rozwiazan lepszych lub rownych 90% skutecznosci =  0.5132656383514405\n",
      "Liczba rozwiazan idealnych =  99\n",
      "Srednia czasu rozwiazan idealnych =  0.5131075719390252\n"
     ]
    }
   ],
   "source": [
    "maxResult5x5_2 = 10\n",
    "resultsList5x5_2 = []\n",
    "timeList5x5_2 = []\n",
    "bestResultsTimeList5x5_2 = []\n",
    "perfectResultsTimeList5x5_2 = []\n",
    "\n",
    "for i in range(100):\n",
    "    start = time.time()\n",
    "    ga_instance = pygad.GA(num_generations=100,\n",
    "                        num_parents_mating=30,\n",
    "                        fitness_func=fitness_func,\n",
    "                        sol_per_pop=100,\n",
    "                        num_genes=target_board.size+1,\n",
    "                        gene_type=int,\n",
    "                        mutation_percent_genes=4)\n",
    "    ga_instance.run()\n",
    "    end = time.time()\n",
    "    solution, solution_fitness, solution_idx = ga_instance.best_solution()\n",
    "\n",
    "    resultsList5x5_2.append(solution_fitness)\n",
    "    timeList5x5_2.append(end - start)\n",
    "\n",
    "for i in range(100):\n",
    "    if resultsList5x5_2[i] == maxResult5x5_2:\n",
    "        perfectResultsTimeList5x5_2.append(timeList5x5_2[i])\n",
    "    if resultsList5x5_2[i]/maxResult5x5_2 >= 0.9:\n",
    "        bestResultsTimeList5x5_2.append(timeList5x5_2[i])\n",
    "        \n",
    "interprateResults(maxResult5x5_2, resultsList5x5_2, bestResultsTimeList5x5_2, perfectResultsTimeList5x5_2)"
   ]
  },
  {
   "cell_type": "markdown",
   "metadata": {},
   "source": [
    "Tutaj skuteczność wyszła nam jeszcze większa."
   ]
  },
  {
   "cell_type": "code",
   "execution_count": 552,
   "metadata": {},
   "outputs": [
    {
     "data": {
      "image/png": "[encoded data removed]",
      "text/plain": [
       "<Figure size 288x288 with 1 Axes>"
      ]
     },
     "metadata": {
      "needs_background": "light"
     },
     "output_type": "display_data"
    }
   ],
   "source": [
    "target_board = np.array([[1,1,0,1,0],\n",
    "                         [0,0,0,0,0],\n",
    "                         [1,0,1,1,1],\n",
    "                         [0,0,0,0,0],\n",
    "                         [1,0,1,1,0]])\n",
    "plt.matshow(target_board)\n",
    "plt.show()"
   ]
  },
  {
   "cell_type": "code",
   "execution_count": 553,
   "metadata": {},
   "outputs": [
    {
     "name": "stdout",
     "output_type": "stream",
     "text": [
      "Liczba trafien = 10 / 10\n",
      "Liczba oddanych strzalow = 26\n"
     ]
    },
    {
     "data": {
      "image/png": "[encoded data removed]",
      "text/plain": [
       "<Figure size 288x288 with 1 Axes>"
      ]
     },
     "metadata": {
      "needs_background": "light"
     },
     "output_type": "display_data"
    }
   ],
   "source": [
    "ga_instance = pygad.GA(num_generations=100,\n",
    "                       num_parents_mating=30,\n",
    "                       fitness_func=fitness_func,\n",
    "                       sol_per_pop=100,\n",
    "                       num_genes=target_board.size+1,\n",
    "                       gene_type=int,\n",
    "                       mutation_percent_genes=4)\n",
    "ga_instance.run()\n",
    "solution, solution_fitness, solution_idx = ga_instance.best_solution()\n",
    "print(\"Liczba trafien = {solution_fitness}\".format(solution_fitness=solution_fitness), \"/ 10\")\n",
    "print(\"Liczba oddanych strzalow =\", len(solution))\n",
    "showResults(solution)"
   ]
  },
  {
   "cell_type": "code",
   "execution_count": 554,
   "metadata": {},
   "outputs": [
    {
     "name": "stdout",
     "output_type": "stream",
     "text": [
      "Srednia trafien wszystkich rozwiazan =  0.999\n",
      "Liczba rozwiazan lepszych lub rownych 90% skutecznosci =  100\n",
      "Srednia czasu rozwiazan lepszych lub rownych 90% skutecznosci =  0.528566927909851\n",
      "Liczba rozwiazan idealnych =  99\n",
      "Srednia czasu rozwiazan idealnych =  0.5287409117727568\n"
     ]
    }
   ],
   "source": [
    "maxResult5x5_3 = 10\n",
    "resultsList5x5_3 = []\n",
    "timeList5x5_3 = []\n",
    "bestResultsTimeList5x5_3 = []\n",
    "perfectResultsTimeList5x5_3 = []\n",
    "\n",
    "for i in range(100):\n",
    "    start = time.time()\n",
    "    ga_instance = pygad.GA(num_generations=100,\n",
    "                        num_parents_mating=30,\n",
    "                        fitness_func=fitness_func,\n",
    "                        sol_per_pop=100,\n",
    "                        num_genes=target_board.size+1,\n",
    "                        gene_type=int,\n",
    "                        mutation_percent_genes=4)\n",
    "    ga_instance.run()\n",
    "    end = time.time()\n",
    "    solution, solution_fitness, solution_idx = ga_instance.best_solution()\n",
    "\n",
    "    resultsList5x5_3.append(solution_fitness)\n",
    "    timeList5x5_3.append(end - start)\n",
    "\n",
    "for i in range(100):\n",
    "    if resultsList5x5_3[i] == maxResult5x5_3:\n",
    "        perfectResultsTimeList5x5_3.append(timeList5x5_3[i])\n",
    "    if resultsList5x5_3[i]/maxResult5x5_3 >= 0.9:\n",
    "        bestResultsTimeList5x5_3.append(timeList5x5_3[i])\n",
    "        \n",
    "interprateResults(maxResult5x5_3, resultsList5x5_3, bestResultsTimeList5x5_3, perfectResultsTimeList5x5_3)"
   ]
  },
  {
   "cell_type": "markdown",
   "metadata": {},
   "source": [
    "Otrzymaliśmy podobny wynik."
   ]
  },
  {
   "cell_type": "markdown",
   "metadata": {},
   "source": [
    "Zobaczmy jeszcze jeden przykład dla testu."
   ]
  },
  {
   "cell_type": "code",
   "execution_count": 29,
   "metadata": {},
   "outputs": [
    {
     "data": {
      "image/png": "[encoded data removed]",
      "text/plain": [
       "<Figure size 288x288 with 1 Axes>"
      ]
     },
     "metadata": {
      "needs_background": "light"
     },
     "output_type": "display_data"
    }
   ],
   "source": [
    "target_board = np.array([[1,0,0,0,0],\n",
    "                         [0,0,1,1,1],\n",
    "                         [1,0,0,0,0],\n",
    "                         [0,0,1,0,1],\n",
    "                         [1,0,1,0,1]])\n",
    "plt.matshow(target_board)\n",
    "plt.show()"
   ]
  },
  {
   "cell_type": "code",
   "execution_count": 30,
   "metadata": {},
   "outputs": [
    {
     "name": "stdout",
     "output_type": "stream",
     "text": [
      "Liczba trafien = 10 / 10\n",
      "Liczba oddanych strzalow = 26\n"
     ]
    },
    {
     "data": {
      "image/png": "[encoded data removed]",
      "text/plain": [
       "<Figure size 288x288 with 1 Axes>"
      ]
     },
     "metadata": {
      "needs_background": "light"
     },
     "output_type": "display_data"
    }
   ],
   "source": [
    "ga_instance = pygad.GA(num_generations=100,\n",
    "                       num_parents_mating=30,\n",
    "                       fitness_func=fitness_func,\n",
    "                       sol_per_pop=100,\n",
    "                       num_genes=target_board.size+1,\n",
    "                       gene_type=int,\n",
    "                       mutation_percent_genes=4)\n",
    "ga_instance.run()\n",
    "solution, solution_fitness, solution_idx = ga_instance.best_solution()\n",
    "print(\"Liczba trafien = {solution_fitness}\".format(solution_fitness=solution_fitness), \"/ 10\")\n",
    "print(\"Liczba oddanych strzalow =\", len(solution))\n",
    "showResults(solution)"
   ]
  },
  {
   "cell_type": "code",
   "execution_count": 557,
   "metadata": {},
   "outputs": [
    {
     "name": "stdout",
     "output_type": "stream",
     "text": [
      "Srednia trafien wszystkich rozwiazan =  0.997\n",
      "Liczba rozwiazan lepszych lub rownych 90% skutecznosci =  100\n",
      "Srednia czasu rozwiazan lepszych lub rownych 90% skutecznosci =  0.5415024065971374\n",
      "Liczba rozwiazan idealnych =  97\n",
      "Srednia czasu rozwiazan idealnych =  0.5410310558437073\n"
     ]
    }
   ],
   "source": [
    "maxResult5x5_4 = 10\n",
    "resultsList5x5_4 = []\n",
    "timeList5x5_4 = []\n",
    "bestResultsTimeList5x5_4 = []\n",
    "perfectResultsTimeList5x5_4 = []\n",
    "\n",
    "for i in range(100):\n",
    "    start = time.time()\n",
    "    ga_instance = pygad.GA(num_generations=100,\n",
    "                        num_parents_mating=30,\n",
    "                        fitness_func=fitness_func,\n",
    "                        sol_per_pop=100,\n",
    "                        num_genes=target_board.size+1,\n",
    "                        gene_type=int,\n",
    "                        mutation_percent_genes=4)\n",
    "    ga_instance.run()\n",
    "    end = time.time()\n",
    "    solution, solution_fitness, solution_idx = ga_instance.best_solution()\n",
    "\n",
    "    resultsList5x5_4.append(solution_fitness)\n",
    "    timeList5x5_4.append(end - start)\n",
    "\n",
    "for i in range(100):\n",
    "    if resultsList5x5_4[i] == maxResult5x5_4:\n",
    "        perfectResultsTimeList5x5_4.append(timeList5x5_4[i])\n",
    "    if resultsList5x5_4[i]/maxResult5x5_4 >= 0.9:\n",
    "        bestResultsTimeList5x5_4.append(timeList5x5_4[i])\n",
    "        \n",
    "interprateResults(maxResult5x5_4, resultsList5x5_4, bestResultsTimeList5x5_4, perfectResultsTimeList5x5_4)"
   ]
  },
  {
   "cell_type": "markdown",
   "metadata": {},
   "source": [
    "Jak widzimy algorytm świetnie radzi sobie z powierzonym zadaniem. Zobaczmy zatem czy tak samo dobrze mu pójdzie z planszą standardowej wielkości 10x10."
   ]
  },
  {
   "cell_type": "code",
   "execution_count": 60,
   "metadata": {},
   "outputs": [
    {
     "data": {
      "image/png": "[encoded data removed]",
      "text/plain": [
       "<Figure size 288x288 with 1 Axes>"
      ]
     },
     "metadata": {
      "needs_background": "light"
     },
     "output_type": "display_data"
    }
   ],
   "source": [
    "target_board = np.array([[1,1,1,1,0,0,0,0,0,0],\n",
    "                            [0,0,0,0,0,0,0,0,0,0],\n",
    "                            [1,1,1,0,0,0,0,0,0,0],\n",
    "                            [0,0,0,0,0,0,0,0,0,0],\n",
    "                            [1,1,1,0,0,0,0,0,0,0],\n",
    "                            [0,0,0,0,0,0,0,0,0,0],\n",
    "                            [1,1,0,1,1,0,0,0,0,0],\n",
    "                            [0,0,0,0,0,0,0,0,0,0],\n",
    "                            [1,1,0,1,0,1,0,1,0,1],\n",
    "                            [0,0,0,0,0,0,0,0,0,0]])\n",
    "plt.matshow(target_board)\n",
    "plt.show()"
   ]
  },
  {
   "cell_type": "markdown",
   "metadata": {},
   "source": [
    "Tutaj chromosom będzie długości 100."
   ]
  },
  {
   "cell_type": "markdown",
   "metadata": {},
   "source": [
    "Populację zwiększymy do 300."
   ]
  },
  {
   "cell_type": "markdown",
   "metadata": {},
   "source": [
    "Krzyżujących się rodziców ustawmy na 30% osobników."
   ]
  },
  {
   "cell_type": "markdown",
   "metadata": {},
   "source": [
    "Mutację natomiast możemy zmniejszyć do najniższej możliwej wartości, czyli 1."
   ]
  },
  {
   "cell_type": "code",
   "execution_count": 64,
   "metadata": {},
   "outputs": [
    {
     "name": "stdout",
     "output_type": "stream",
     "text": [
      "Liczba trafien = 20 / 20\n",
      "Liczba oddanych strzalow = 100\n"
     ]
    },
    {
     "data": {
      "image/png": "[encoded data removed]",
      "text/plain": [
       "<Figure size 288x288 with 1 Axes>"
      ]
     },
     "metadata": {
      "needs_background": "light"
     },
     "output_type": "display_data"
    }
   ],
   "source": [
    "ga_instance = pygad.GA(num_generations=100,\n",
    "                       num_parents_mating=90,\n",
    "                       fitness_func=fitness_func,\n",
    "                       sol_per_pop=300,\n",
    "                       num_genes=target_board.size,\n",
    "                       gene_type=int,\n",
    "                       init_range_low=0,\n",
    "                       init_range_high=target_board.shape[0],\n",
    "                       mutation_percent_genes=1)\n",
    "ga_instance.run()\n",
    "solution, solution_fitness, solution_idx = ga_instance.best_solution()\n",
    "print(\"Liczba trafien = {solution_fitness}\".format(solution_fitness=solution_fitness), \"/ 20\")\n",
    "print(\"Liczba oddanych strzalow =\", len(solution))\n",
    "showResults(solution)"
   ]
  },
  {
   "cell_type": "code",
   "execution_count": 65,
   "metadata": {},
   "outputs": [
    {
     "name": "stdout",
     "output_type": "stream",
     "text": [
      "Srednia trafien wszystkich rozwiazan =  1.0\n",
      "Liczba rozwiazan lepszych lub rownych 90% skutecznosci =  100\n",
      "Srednia czasu rozwiazan lepszych lub rownych 90% skutecznosci =  3.31072660446167\n",
      "Liczba rozwiazan idealnych =  100\n",
      "Srednia czasu rozwiazan idealnych =  3.31072660446167\n"
     ]
    }
   ],
   "source": [
    "maxResult10x10_1 = 20\n",
    "resultsList10x10_1 = []\n",
    "timeList10x10_1 = []\n",
    "bestResultsTimeList10x10_1 = []\n",
    "perfectResultsTimeList10x10_1 = []\n",
    "\n",
    "for i in range(100):\n",
    "    start = time.time()\n",
    "    ga_instance = pygad.GA(num_generations=100,\n",
    "                        num_parents_mating=90,\n",
    "                        fitness_func=fitness_func,\n",
    "                        sol_per_pop=300,\n",
    "                        num_genes=target_board.size,\n",
    "                        gene_type=int,\n",
    "                        init_range_low=0,\n",
    "                        init_range_high=target_board.shape[0],\n",
    "                        mutation_percent_genes=1)\n",
    "    ga_instance.run()\n",
    "    end = time.time()\n",
    "    solution, solution_fitness, solution_idx = ga_instance.best_solution()\n",
    "\n",
    "    resultsList10x10_1.append(solution_fitness)\n",
    "    timeList10x10_1.append(end - start)\n",
    "\n",
    "for i in range(100):\n",
    "    if resultsList10x10_1[i] == maxResult10x10_1:\n",
    "        perfectResultsTimeList10x10_1.append(timeList10x10_1[i])\n",
    "    if resultsList10x10_1[i]/maxResult10x10_1 >= 0.9:\n",
    "        bestResultsTimeList10x10_1.append(timeList10x10_1[i])\n",
    "\n",
    "interprateResults(maxResult10x10_1, resultsList10x10_1, bestResultsTimeList10x10_1, perfectResultsTimeList10x10_1)"
   ]
  },
  {
   "cell_type": "markdown",
   "metadata": {},
   "source": [
    "Jak widzimy, tutaj algorytm genetyczny również radzi sobie świetnie. Otrzymaliśmy 100% rozwiązania kosztem trochę dłuższego czasu obliczeniowego."
   ]
  },
  {
   "cell_type": "code",
   "execution_count": 66,
   "metadata": {},
   "outputs": [
    {
     "data": {
      "image/png": "[encoded data removed]",
      "text/plain": [
       "<Figure size 288x288 with 1 Axes>"
      ]
     },
     "metadata": {
      "needs_background": "light"
     },
     "output_type": "display_data"
    }
   ],
   "source": [
    "target_board =np.array([[0,0,0,0,1,1,1,0,0,0],\n",
    "                        [1,0,0,0,0,0,0,0,1,0],\n",
    "                        [0,0,1,1,0,0,0,0,0,0],\n",
    "                        [0,0,0,0,0,1,1,1,1,0],\n",
    "                        [0,1,0,1,0,0,0,0,0,0],\n",
    "                        [0,1,0,0,0,0,0,0,0,0],\n",
    "                        [0,0,0,0,0,0,0,0,1,0],\n",
    "                        [0,0,0,0,0,0,1,0,1,0],\n",
    "                        [0,0,0,1,1,0,0,0,1,0],\n",
    "                        [0,0,0,0,0,0,0,0,0,0]])\n",
    "plt.matshow(target_board)\n",
    "plt.show()"
   ]
  },
  {
   "cell_type": "code",
   "execution_count": 68,
   "metadata": {},
   "outputs": [
    {
     "name": "stdout",
     "output_type": "stream",
     "text": [
      "Liczba trafien = 20 / 20\n",
      "Liczba oddanych strzalow = 100\n"
     ]
    },
    {
     "data": {
      "image/png": "[encoded data removed]",
      "text/plain": [
       "<Figure size 288x288 with 1 Axes>"
      ]
     },
     "metadata": {
      "needs_background": "light"
     },
     "output_type": "display_data"
    }
   ],
   "source": [
    "num_genes=target_board.size\n",
    "ga_instance = pygad.GA(num_generations=50,\n",
    "                    num_parents_mating=90,\n",
    "                    fitness_func=fitness_func,\n",
    "                    sol_per_pop=300,\n",
    "                    num_genes=target_board.size,\n",
    "                    gene_type=int,\n",
    "                    init_range_low=0,\n",
    "                    init_range_high=target_board.shape[0],\n",
    "                    mutation_percent_genes=1)\n",
    "ga_instance.run()\n",
    "solution, solution_fitness, solution_idx = ga_instance.best_solution()\n",
    "print(\"Liczba trafien = {solution_fitness}\".format(solution_fitness=solution_fitness), \"/ 20\")\n",
    "print(\"Liczba oddanych strzalow =\", len(solution))\n",
    "showResults(solution)"
   ]
  },
  {
   "cell_type": "code",
   "execution_count": 69,
   "metadata": {},
   "outputs": [
    {
     "name": "stdout",
     "output_type": "stream",
     "text": [
      "Srednia trafien wszystkich rozwiazan =  1.0\n",
      "Liczba rozwiazan lepszych lub rownych 90% skutecznosci =  100\n",
      "Srednia czasu rozwiazan lepszych lub rownych 90% skutecznosci =  1.6774386548995972\n",
      "Liczba rozwiazan idealnych =  100\n",
      "Srednia czasu rozwiazan idealnych =  1.6774386548995972\n"
     ]
    }
   ],
   "source": [
    "maxResult10x10_2 = 20\n",
    "resultsList10x10_2 = []\n",
    "timeList10x10_2 = []\n",
    "bestResultsTimeList10x10_2 = []\n",
    "perfectResultsTimeList10x10_2 = []\n",
    "\n",
    "for i in range(100):\n",
    "    start = time.time()\n",
    "    ga_instance = pygad.GA(num_generations=50,\n",
    "                        num_parents_mating=90,\n",
    "                        fitness_func=fitness_func,\n",
    "                        sol_per_pop=300,\n",
    "                        num_genes=target_board.size,\n",
    "                        gene_type=int,\n",
    "                        init_range_low=0,\n",
    "                        init_range_high=target_board.shape[0],\n",
    "                        mutation_percent_genes=1)\n",
    "    ga_instance.run()\n",
    "    end = time.time()\n",
    "    solution, solution_fitness, solution_idx = ga_instance.best_solution()\n",
    "\n",
    "    resultsList10x10_2.append(solution_fitness)\n",
    "    timeList10x10_2.append(end - start)\n",
    "\n",
    "for i in range(100):\n",
    "    if resultsList10x10_2[i] == maxResult10x10_2:\n",
    "        perfectResultsTimeList10x10_2.append(timeList10x10_2[i])\n",
    "    if resultsList10x10_2[i]/maxResult10x10_2 >= 0.9:\n",
    "        bestResultsTimeList10x10_2.append(timeList10x10_2[i])\n",
    "\n",
    "interprateResults(maxResult10x10_2, resultsList10x10_2, bestResultsTimeList10x10_2, perfectResultsTimeList10x10_2)"
   ]
  },
  {
   "cell_type": "code",
   "execution_count": 70,
   "metadata": {},
   "outputs": [
    {
     "data": {
      "image/png": "[encoded data removed]",
      "text/plain": [
       "<Figure size 288x288 with 1 Axes>"
      ]
     },
     "metadata": {
      "needs_background": "light"
     },
     "output_type": "display_data"
    }
   ],
   "source": [
    "target_board =np.array([[0,0,0,0,0,0,0,0,0,0],\n",
    "                        [0,1,0,0,0,1,0,1,1,0],\n",
    "                        [0,0,0,1,0,1,0,0,0,0],\n",
    "                        [0,0,0,1,0,0,0,0,0,0],\n",
    "                        [0,0,0,1,0,1,1,1,0,0],\n",
    "                        [0,0,0,1,0,0,0,0,0,0],\n",
    "                        [0,0,0,0,0,1,1,1,0,0],\n",
    "                        [0,0,1,0,0,0,0,0,0,0],\n",
    "                        [0,0,1,0,0,0,0,0,0,0],\n",
    "                        [0,0,0,0,0,1,0,1,0,1]])\n",
    "plt.matshow(target_board)\n",
    "plt.show()"
   ]
  },
  {
   "cell_type": "code",
   "execution_count": 71,
   "metadata": {},
   "outputs": [
    {
     "name": "stdout",
     "output_type": "stream",
     "text": [
      "Liczba trafien = 20 / 20\n",
      "Liczba oddanych strzalow = 100\n"
     ]
    },
    {
     "data": {
      "image/png": "[encoded data removed]",
      "text/plain": [
       "<Figure size 288x288 with 1 Axes>"
      ]
     },
     "metadata": {
      "needs_background": "light"
     },
     "output_type": "display_data"
    }
   ],
   "source": [
    "num_genes=target_board.size\n",
    "ga_instance = pygad.GA(num_generations=50,\n",
    "                    num_parents_mating=90,\n",
    "                    fitness_func=fitness_func,\n",
    "                    sol_per_pop=300,\n",
    "                    num_genes=target_board.size,\n",
    "                    gene_type=int,\n",
    "                    init_range_low=0,\n",
    "                    init_range_high=target_board.shape[0],\n",
    "                    mutation_percent_genes=1)\n",
    "ga_instance.run()\n",
    "solution, solution_fitness, solution_idx = ga_instance.best_solution()\n",
    "print(\"Liczba trafien = {solution_fitness}\".format(solution_fitness=solution_fitness), \"/ 20\")\n",
    "print(\"Liczba oddanych strzalow =\", len(solution))\n",
    "showResults(solution)"
   ]
  },
  {
   "cell_type": "code",
   "execution_count": 72,
   "metadata": {},
   "outputs": [
    {
     "name": "stdout",
     "output_type": "stream",
     "text": [
      "Srednia trafien wszystkich rozwiazan =  1.0\n",
      "Liczba rozwiazan lepszych lub rownych 90% skutecznosci =  100\n",
      "Srednia czasu rozwiazan lepszych lub rownych 90% skutecznosci =  1.6736967611312865\n",
      "Liczba rozwiazan idealnych =  100\n",
      "Srednia czasu rozwiazan idealnych =  1.6736967611312865\n"
     ]
    }
   ],
   "source": [
    "maxResult10x10_3 = 20\n",
    "resultsList10x10_3 = []\n",
    "timeList10x10_3 = []\n",
    "bestResultsTimeList10x10_3 = []\n",
    "perfectResultsTimeList10x10_3 = []\n",
    "\n",
    "for i in range(100):\n",
    "    start = time.time()\n",
    "    ga_instance = pygad.GA(num_generations=50,\n",
    "                        num_parents_mating=90,\n",
    "                        fitness_func=fitness_func,\n",
    "                        sol_per_pop=300,\n",
    "                        num_genes=target_board.size,\n",
    "                        gene_type=int,\n",
    "                        init_range_low=0,\n",
    "                        init_range_high=target_board.shape[0],\n",
    "                        mutation_percent_genes=1)\n",
    "    ga_instance.run()\n",
    "    end = time.time()\n",
    "    solution, solution_fitness, solution_idx = ga_instance.best_solution()\n",
    "\n",
    "    resultsList10x10_3.append(solution_fitness)\n",
    "    timeList10x10_3.append(end - start)\n",
    "\n",
    "for i in range(100):\n",
    "    if resultsList10x10_3[i] == maxResult10x10_3:\n",
    "        perfectResultsTimeList10x10_3.append(timeList10x10_3[i])\n",
    "    if resultsList10x10_3[i]/maxResult10x10_3 >= 0.9:\n",
    "        bestResultsTimeList10x10_3.append(timeList10x10_3[i])\n",
    "\n",
    "interprateResults(maxResult10x10_3, resultsList10x10_3, bestResultsTimeList10x10_3, perfectResultsTimeList10x10_3)"
   ]
  },
  {
   "cell_type": "markdown",
   "metadata": {},
   "source": [
    "Na wszystkich trzech przykładach wynik wyszedł perfekcyjny."
   ]
  },
  {
   "cell_type": "markdown",
   "metadata": {},
   "source": [
    "Ustalmy teraz niestandardową wersję gry w statki na planszy 15x15, gdzie dodamy statek wielkości 6 i odpowiednio wiele mniejszych."
   ]
  },
  {
   "cell_type": "code",
   "execution_count": 96,
   "metadata": {},
   "outputs": [
    {
     "data": {
      "image/png": "[encoded data removed]",
      "text/plain": [
       "<Figure size 288x288 with 1 Axes>"
      ]
     },
     "metadata": {
      "needs_background": "light"
     },
     "output_type": "display_data"
    }
   ],
   "source": [
    "target_board = np.array([[1,1,1,1,1,1,0,0,1,0,0,0,0,0,0],\n",
    "                         [0,0,0,0,0,0,0,0,1,0,0,1,0,0,0],\n",
    "                         [1,1,1,1,1,0,0,0,0,0,0,0,0,0,0],\n",
    "                         [0,0,0,0,0,0,0,0,0,0,0,1,0,1,0],\n",
    "                         [1,1,1,1,1,0,0,0,0,0,0,1,0,0,0],\n",
    "                         [0,0,0,0,0,0,0,0,0,0,0,0,0,0,0],\n",
    "                         [1,1,1,1,0,0,1,0,0,0,0,0,0,1,0],\n",
    "                         [0,0,0,0,0,0,1,0,0,0,0,0,0,0,0],\n",
    "                         [1,1,1,1,0,0,0,0,0,0,0,0,1,0,0],\n",
    "                         [0,0,0,0,0,0,0,0,0,0,0,0,0,0,0],\n",
    "                         [1,1,1,1,0,0,1,1,0,0,0,0,0,0,0],\n",
    "                         [0,0,0,0,0,0,0,0,0,0,0,0,0,1,0],\n",
    "                         [1,1,1,0,1,1,1,0,1,0,0,0,0,0,0],\n",
    "                         [0,0,0,0,0,0,0,0,1,0,0,1,0,0,0],\n",
    "                         [1,1,1,0,1,1,1,0,0,0,0,0,0,0,0]])\n",
    "plt.matshow(target_board)\n",
    "plt.show()"
   ]
  },
  {
   "cell_type": "markdown",
   "metadata": {},
   "source": [
    "W tym miejscu możemy się już pokusić o zmniejszenie liczby pokoleń ze względu na dłuższy czas wykonywania algorytmu. Problem staje się skomplikowany, więc jeśli wyniki będą niezadowalające zawsze możemy zwiększyć ich ilość."
   ]
  },
  {
   "cell_type": "markdown",
   "metadata": {},
   "source": [
    "Przyjmijmy odpowiednio większą populację i rodziców."
   ]
  },
  {
   "cell_type": "code",
   "execution_count": 76,
   "metadata": {},
   "outputs": [
    {
     "name": "stdout",
     "output_type": "stream",
     "text": [
      "Liczba trafien = 56 / 56\n",
      "Liczba oddanych strzalow = 226\n"
     ]
    },
    {
     "data": {
      "image/png": "[encoded data removed]",
      "text/plain": [
       "<Figure size 288x288 with 1 Axes>"
      ]
     },
     "metadata": {
      "needs_background": "light"
     },
     "output_type": "display_data"
    }
   ],
   "source": [
    "ga_instance = pygad.GA(num_generations=50,\n",
    "                       num_parents_mating=250,\n",
    "                       fitness_func=fitness_func,\n",
    "                       sol_per_pop=500,\n",
    "                       num_genes=target_board.size+1,\n",
    "                       gene_type=int,\n",
    "                       init_range_low=0,\n",
    "                       init_range_high=target_board.shape[0],\n",
    "                       mutation_percent_genes=1)\n",
    "ga_instance.run()\n",
    "solution, solution_fitness, solution_idx = ga_instance.best_solution()\n",
    "print(\"Liczba trafien = {solution_fitness}\".format(solution_fitness=solution_fitness), \"/ 56\")\n",
    "print(\"Liczba oddanych strzalow =\", len(solution))\n",
    "showResults(solution)"
   ]
  },
  {
   "cell_type": "code",
   "execution_count": 77,
   "metadata": {},
   "outputs": [
    {
     "name": "stdout",
     "output_type": "stream",
     "text": [
      "Srednia trafien wszystkich rozwiazan =  0.9971428571428571\n",
      "Liczba rozwiazan lepszych lub rownych 90% skutecznosci =  100\n",
      "Srednia czasu rozwiazan lepszych lub rownych 90% skutecznosci =  5.69042227268219\n",
      "Liczba rozwiazan idealnych =  86\n",
      "Srednia czasu rozwiazan idealnych =  5.676117300987244\n"
     ]
    }
   ],
   "source": [
    "maxResult15x15_1 = 56\n",
    "resultsList15x15_1 = []\n",
    "timeList15x15_1 = []\n",
    "bestResultsTimeList15x15_1 = []\n",
    "perfectResultsTimeList15x15_1 = []\n",
    "\n",
    "for i in range(100):\n",
    "    start = time.time()\n",
    "    ga_instance = pygad.GA(num_generations=50,\n",
    "                       num_parents_mating=250,\n",
    "                       fitness_func=fitness_func,\n",
    "                       sol_per_pop=500,\n",
    "                       num_genes=target_board.size+1,\n",
    "                       gene_type=int,\n",
    "                       init_range_low=0,\n",
    "                       init_range_high=target_board.shape[0],\n",
    "                       mutation_percent_genes=1)\n",
    "    ga_instance.run()\n",
    "    end = time.time()\n",
    "    solution, solution_fitness, solution_idx = ga_instance.best_solution()\n",
    "\n",
    "    resultsList15x15_1.append(solution_fitness)\n",
    "    timeList15x15_1.append(end - start)\n",
    "\n",
    "for i in range(100):\n",
    "    if resultsList15x15_1[i] == maxResult15x15_1:\n",
    "        perfectResultsTimeList15x15_1.append(timeList15x15_1[i])\n",
    "    if resultsList15x15_1[i]/maxResult15x15_1 >= 0.9:\n",
    "        bestResultsTimeList15x15_1.append(timeList15x15_1[i])\n",
    "\n",
    "interprateResults(maxResult15x15_1, resultsList15x15_1, bestResultsTimeList15x15_1, perfectResultsTimeList15x15_1)"
   ]
  },
  {
   "cell_type": "markdown",
   "metadata": {},
   "source": [
    "Jak widzimy możemy otrzymać rozwiązanie perfekcyjne, natomiast wszystkie ze 100 rozwiązań były lepsze niż 90% skuteczności."
   ]
  },
  {
   "cell_type": "code",
   "execution_count": 78,
   "metadata": {},
   "outputs": [
    {
     "data": {
      "image/png": "[encoded data removed]",
      "text/plain": [
       "<Figure size 288x288 with 1 Axes>"
      ]
     },
     "metadata": {
      "needs_background": "light"
     },
     "output_type": "display_data"
    }
   ],
   "source": [
    "target_board =np.array([[0,1,1,1,1,1,0,1,0,0,0,0,1,1,1],\n",
    "                        [0,0,0,0,0,0,0,1,0,0,0,0,0,0,0],\n",
    "                        [1,1,1,1,1,0,0,1,0,0,0,1,1,1,0],\n",
    "                        [0,0,0,0,0,0,0,1,0,0,0,0,0,0,0],\n",
    "                        [0,0,0,0,0,0,0,1,0,0,1,1,1,0,0],\n",
    "                        [0,0,1,1,0,0,0,1,0,0,0,0,0,0,0],\n",
    "                        [0,0,0,0,0,0,0,0,0,1,1,1,0,0,0],\n",
    "                        [0,1,0,0,0,1,0,0,0,0,0,0,0,0,0],\n",
    "                        [0,0,0,1,0,1,0,0,0,0,0,0,1,0,0],\n",
    "                        [1,0,0,0,0,0,0,0,0,1,1,0,1,0,0],\n",
    "                        [0,0,0,0,0,0,0,0,0,0,0,0,0,0,0],\n",
    "                        [0,1,1,1,1,0,1,0,0,0,1,0,0,1,0],\n",
    "                        [0,0,0,0,0,0,1,0,0,0,0,0,0,1,0],\n",
    "                        [0,1,1,1,1,0,1,0,0,0,1,0,0,0,0],\n",
    "                        [0,0,0,0,0,0,1,0,0,0,0,0,1,0,0]])\n",
    "plt.matshow(target_board)\n",
    "plt.show()"
   ]
  },
  {
   "cell_type": "code",
   "execution_count": 88,
   "metadata": {},
   "outputs": [
    {
     "name": "stdout",
     "output_type": "stream",
     "text": [
      "Liczba trafien = 56 / 56\n",
      "Liczba oddanych strzalow = 226\n"
     ]
    },
    {
     "data": {
      "image/png": "[encoded data removed]",
      "text/plain": [
       "<Figure size 288x288 with 1 Axes>"
      ]
     },
     "metadata": {
      "needs_background": "light"
     },
     "output_type": "display_data"
    }
   ],
   "source": [
    "ga_instance = pygad.GA(num_generations=50,\n",
    "                    num_parents_mating=180,\n",
    "                    fitness_func=fitness_func,\n",
    "                    sol_per_pop=600,\n",
    "                    num_genes=target_board.size+1,\n",
    "                    gene_type=int,\n",
    "                    init_range_low=0,\n",
    "                    init_range_high=target_board.shape[0],\n",
    "                    mutation_percent_genes=1)\n",
    "ga_instance.run()\n",
    "solution, solution_fitness, solution_idx = ga_instance.best_solution()\n",
    "print(\"Liczba trafien = {solution_fitness}\".format(solution_fitness=solution_fitness), \"/ 56\")\n",
    "print(\"Liczba oddanych strzalow =\", len(solution))\n",
    "showResults(solution)"
   ]
  },
  {
   "cell_type": "code",
   "execution_count": 89,
   "metadata": {},
   "outputs": [
    {
     "name": "stdout",
     "output_type": "stream",
     "text": [
      "Srednia trafien wszystkich rozwiazan =  0.9907142857142857\n",
      "Liczba rozwiazan lepszych lub rownych 90% skutecznosci =  100\n",
      "Srednia czasu rozwiazan lepszych lub rownych 90% skutecznosci =  6.6030291223526\n",
      "Liczba rozwiazan idealnych =  60\n",
      "Srednia czasu rozwiazan idealnych =  6.617070146401724\n"
     ]
    }
   ],
   "source": [
    "maxResult15x15_2 = 56\n",
    "resultsList15x15_2 = []\n",
    "timeList15x15_2 = []\n",
    "bestResultsTimeList15x15_2 = []\n",
    "perfectResultsTimeList15x15_2 = []\n",
    "\n",
    "for i in range(100):\n",
    "    start = time.time()\n",
    "    ga_instance = pygad.GA(num_generations=50,\n",
    "                    num_parents_mating=180,\n",
    "                    fitness_func=fitness_func,\n",
    "                    sol_per_pop=600,\n",
    "                    num_genes=target_board.size+1,\n",
    "                    gene_type=int,\n",
    "                    init_range_low=0,\n",
    "                    init_range_high=target_board.shape[0],\n",
    "                    mutation_percent_genes=1)\n",
    "    ga_instance.run()\n",
    "    end = time.time()\n",
    "    solution, solution_fitness, solution_idx = ga_instance.best_solution()\n",
    "\n",
    "    resultsList15x15_2.append(solution_fitness)\n",
    "    timeList15x15_2.append(end - start)\n",
    "\n",
    "for i in range(100):\n",
    "    if resultsList15x15_2[i] == maxResult15x15_2:\n",
    "        perfectResultsTimeList15x15_2.append(timeList15x15_2[i])\n",
    "    if resultsList15x15_2[i]/maxResult15x15_2 >= 0.9:\n",
    "        bestResultsTimeList15x15_2.append(timeList15x15_2[i])\n",
    "\n",
    "interprateResults(maxResult15x15_2, resultsList15x15_2, bestResultsTimeList15x15_2, perfectResultsTimeList15x15_2)"
   ]
  },
  {
   "cell_type": "markdown",
   "metadata": {},
   "source": [
    "Na tym przykładzie liczba rozwiązań idealnych jest jeszcze niższa, natomiast dalej 100% rozwiązań osiąga skuteczność nie gorszą niż 90%."
   ]
  },
  {
   "cell_type": "markdown",
   "metadata": {},
   "source": [
    "Korzystając z tego, że mamy jeszcze dużo miejsca na planszy zobaczmy jak algorytm sobie poradzi gdy dodamy mu statek długości 7 i odpowiednio więcej mniejszych."
   ]
  },
  {
   "cell_type": "code",
   "execution_count": 98,
   "metadata": {},
   "outputs": [
    {
     "data": {
      "image/png": "[encoded data removed]",
      "text/plain": [
       "<Figure size 288x288 with 1 Axes>"
      ]
     },
     "metadata": {
      "needs_background": "light"
     },
     "output_type": "display_data"
    }
   ],
   "source": [
    "target_board = np.array([[1,1,1,1,1,1,1,0,1,1,0,1,1,0,0],\n",
    "                         [0,0,0,0,0,0,0,0,0,0,0,0,0,0,1],\n",
    "                         [1,1,1,1,1,1,0,1,1,0,1,0,1,0,0],\n",
    "                         [0,0,0,0,0,0,0,0,0,0,1,0,0,0,0],\n",
    "                         [1,1,1,1,1,1,0,1,1,0,0,0,1,0,0],\n",
    "                         [0,0,0,0,0,0,0,0,0,0,1,0,0,0,0],\n",
    "                         [1,1,1,1,1,0,1,1,1,0,1,0,1,0,0],\n",
    "                         [0,0,0,0,0,0,0,0,0,0,0,0,0,0,0],\n",
    "                         [1,1,1,1,1,0,1,1,1,0,1,0,0,1,0],\n",
    "                         [0,0,0,0,0,0,0,0,0,0,1,0,0,0,0],\n",
    "                         [1,1,1,1,1,0,1,1,1,0,1,0,0,1,0],\n",
    "                         [0,0,0,0,0,0,0,0,0,0,0,0,0,0,0],\n",
    "                         [1,1,1,1,0,1,1,1,1,0,1,0,0,0,0],\n",
    "                         [0,0,0,0,0,0,0,0,0,0,1,0,0,1,0],\n",
    "                         [1,1,1,1,0,1,1,1,1,0,1,0,0,0,0],])\n",
    "plt.matshow(target_board)\n",
    "plt.show()"
   ]
  },
  {
   "cell_type": "markdown",
   "metadata": {},
   "source": [
    "Plansza już nam się na prawdę mocno zapełniła."
   ]
  },
  {
   "cell_type": "code",
   "execution_count": 93,
   "metadata": {},
   "outputs": [
    {
     "name": "stdout",
     "output_type": "stream",
     "text": [
      "Liczba trafien = 84 / 84\n",
      "Liczba oddanych strzalow = 226\n"
     ]
    },
    {
     "data": {
      "image/png": "[encoded data removed]",
      "text/plain": [
       "<Figure size 288x288 with 1 Axes>"
      ]
     },
     "metadata": {
      "needs_background": "light"
     },
     "output_type": "display_data"
    }
   ],
   "source": [
    "ga_instance = pygad.GA(num_generations=100,\n",
    "                       num_parents_mating=250,\n",
    "                       fitness_func=fitness_func,\n",
    "                       sol_per_pop=500,\n",
    "                       num_genes=target_board.size+1,\n",
    "                       gene_type=int,\n",
    "                       init_range_low=0,\n",
    "                       init_range_high=target_board.shape[0],\n",
    "                       mutation_percent_genes=1)\n",
    "ga_instance.run()\n",
    "solution, solution_fitness, solution_idx = ga_instance.best_solution()\n",
    "print(\"Liczba trafien = {solution_fitness}\".format(solution_fitness=solution_fitness), \"/ 84\")\n",
    "print(\"Liczba oddanych strzalow =\", len(solution))\n",
    "showResults(solution)"
   ]
  },
  {
   "cell_type": "code",
   "execution_count": 95,
   "metadata": {},
   "outputs": [
    {
     "name": "stdout",
     "output_type": "stream",
     "text": [
      "Srednia trafien wszystkich rozwiazan =  0.9382142857142857\n",
      "Liczba rozwiazan lepszych lub rownych 90% skutecznosci =  97\n",
      "Srednia czasu rozwiazan lepszych lub rownych 90% skutecznosci =  6.070604110501476\n",
      "Liczba rozwiazan idealnych =  0\n"
     ]
    }
   ],
   "source": [
    "maxResult15x15_3 = 84\n",
    "resultsList15x15_3 = []\n",
    "timeList15x15_3 = []\n",
    "bestResultsTimeList15x15_3 = []\n",
    "perfectResultsTimeList15x15_3 = []\n",
    "\n",
    "for i in range(100):\n",
    "    start = time.time()\n",
    "    ga_instance = pygad.GA(num_generations=50,\n",
    "                       num_parents_mating=250,\n",
    "                       fitness_func=fitness_func,\n",
    "                       sol_per_pop=500,\n",
    "                       num_genes=target_board.size+1,\n",
    "                       gene_type=int,\n",
    "                       init_range_low=0,\n",
    "                       init_range_high=target_board.shape[0],\n",
    "                       mutation_percent_genes=1)\n",
    "    ga_instance.run()\n",
    "    end = time.time()\n",
    "    solution, solution_fitness, solution_idx = ga_instance.best_solution()\n",
    "\n",
    "    resultsList15x15_3.append(solution_fitness)\n",
    "    timeList15x15_3.append(end - start)\n",
    "\n",
    "for i in range(100):\n",
    "    if resultsList15x15_3[i] == maxResult15x15_3:\n",
    "        perfectResultsTimeList15x15_3.append(timeList15x15_3[i])\n",
    "    if resultsList15x15_3[i]/maxResult15x15_3 >= 0.9:\n",
    "        bestResultsTimeList15x15_3.append(timeList15x15_3[i])\n",
    "\n",
    "interprateResults(maxResult15x15_3, resultsList15x15_3, bestResultsTimeList15x15_3, perfectResultsTimeList15x15_3)"
   ]
  },
  {
   "cell_type": "markdown",
   "metadata": {},
   "source": [
    "Niestety program nie poradził sobie z tym zadaniem tak dobrze jak ze wcześniejszymi. Mimo pierwszego perfekcyjnego testu, na 100 kolejnych nie udało mu się ani razu zdobyć takiego wyniku. Być może trudniej mu odnaleźć schemat przy takich danych wejściowych."
   ]
  },
  {
   "cell_type": "markdown",
   "metadata": {},
   "source": [
    "Niemniej 97% testowanych przypadków miało średnią ~94% trafień."
   ]
  },
  {
   "cell_type": "markdown",
   "metadata": {},
   "source": []
  },
  {
   "cell_type": "markdown",
   "metadata": {},
   "source": [
    "Porównajmy teraz algorytm genetyczny do kolonii mrówek."
   ]
  },
  {
   "cell_type": "markdown",
   "metadata": {},
   "source": [
    "Ustalmy koordynaty pól, na których pływają statki."
   ]
  },
  {
   "cell_type": "code",
   "execution_count": 138,
   "metadata": {},
   "outputs": [],
   "source": [
    "COORDS5x5_1 = (\n",
    "    (0,0),(0,1),(0,2),(0,4),(2,0),\n",
    "    (2,1),(2,3),(4,0),(4,1),(4,3)\n",
    ")"
   ]
  },
  {
   "cell_type": "code",
   "execution_count": 144,
   "metadata": {},
   "outputs": [],
   "source": [
    "%%capture test\n",
    "start = time.time()\n",
    "\n",
    "colony = AntColony(COORDS5x5_1, ant_count=100, alpha=0.5, beta=1.2, \n",
    "                    pheromone_evaporation_rate=0.40, pheromone_constant=1000.0,\n",
    "                    iterations=100)\n",
    "\n",
    "optimal_nodes = colony.get_path()\n",
    "optimal_nodes = list(dict.fromkeys(optimal_nodes)) #remove duplicates\n",
    "end = time.time()\n",
    "colonyTime5x5_1 = end - start"
   ]
  },
  {
   "cell_type": "code",
   "execution_count": 145,
   "metadata": {},
   "outputs": [
    {
     "name": "stdout",
     "output_type": "stream",
     "text": [
      "Liczba trafien =  10 / 10\n"
     ]
    }
   ],
   "source": [
    "hits = 0\n",
    "for i in COORDS5x5_1:\n",
    "    for j in optimal_nodes:\n",
    "        if i == j:\n",
    "            hits += 1\n",
    "print(\"Liczba trafien = \", hits, \"/ 10\")"
   ]
  },
  {
   "cell_type": "markdown",
   "metadata": {},
   "source": [
    "Jak widzimy, dla planszy 5x5 kolonia poradziła sobie bardzo dobrze."
   ]
  },
  {
   "cell_type": "code",
   "execution_count": null,
   "metadata": {},
   "outputs": [],
   "source": [
    "target_board = np.array([[1,1,1,1,0,0,0,0,0,0],\n",
    "                            [0,0,0,0,0,0,0,0,0,0],\n",
    "                            [1,1,1,0,0,0,0,0,0,0],\n",
    "                            [0,0,0,0,0,0,0,0,0,0],\n",
    "                           4[1,1,1,0,0,0,0,0,0,0],\n",
    "                            [0,0,0,0,0,0,0,0,0,0],\n",
    "                            [1,1,0,1,1,0,0,0,0,0],\n",
    "                            [0,0,0,0,0,0,0,0,0,0],\n",
    "                            [1,1,0,1,0,1,0,1,0,1],\n",
    "                            [0,0,0,0,0,0,0,0,0,0]])"
   ]
  },
  {
   "cell_type": "markdown",
   "metadata": {},
   "source": [
    "Sprawdźmy to samo dla wielkości 10x10."
   ]
  },
  {
   "cell_type": "code",
   "execution_count": 146,
   "metadata": {},
   "outputs": [],
   "source": [
    "COORDS10x10_1 = (\n",
    "    (0,0),(0,1),(0,2),(0,3),(2,0),(2,1),(2,2),(4,0),(4,1),(4,2),\n",
    "    (6,0),(6,1),(6,3),(6,4),(8,0),(8,1),(8,3),(8,5),(8,7),(8,9)\n",
    ")"
   ]
  },
  {
   "cell_type": "code",
   "execution_count": 147,
   "metadata": {},
   "outputs": [],
   "source": [
    "%%capture test\n",
    "start = time.time()\n",
    "colony = AntColony(COORDS10x10_1, ant_count=100, alpha=0.5, beta=1.2, \n",
    "                    pheromone_evaporation_rate=0.40, pheromone_constant=1000.0,\n",
    "                    iterations=100)\n",
    "\n",
    "optimal_nodes = colony.get_path()\n",
    "optimal_nodes = list(dict.fromkeys(optimal_nodes)) #remove duplicates\n",
    "end = time.time()\n",
    "colonyTime10x10_1 = end - start"
   ]
  },
  {
   "cell_type": "code",
   "execution_count": 148,
   "metadata": {},
   "outputs": [
    {
     "name": "stdout",
     "output_type": "stream",
     "text": [
      "Liczba trafien =  17 / 20\n"
     ]
    }
   ],
   "source": [
    "hits = 0\n",
    "for i in COORDS10x10_1:\n",
    "    for j in optimal_nodes:\n",
    "        if i == j:\n",
    "            hits += 1\n",
    "print(\"Liczba trafien = \", hits, \"/ 20\")"
   ]
  },
  {
   "cell_type": "markdown",
   "metadata": {},
   "source": [
    "Otrzymaliśmy dokładność rzędu 85%."
   ]
  },
  {
   "cell_type": "markdown",
   "metadata": {},
   "source": [
    "Zobaczmy na koniec 15x15."
   ]
  },
  {
   "cell_type": "code",
   "execution_count": 128,
   "metadata": {},
   "outputs": [],
   "source": [
    "COORDS15x15_1 = (\n",
    "    (0,0),(0,1),(0,2),(0,3),(0,4),(0,5),(0,8),(1,8),(0,11),(2,0),(2,1),(2,2),(2,3),(2,4),\n",
    "    (3,13),(3,11),(4,0),(4,1),(4,2),(4,3),(4,4),(4,11),(6,0),(6,1),(6,2),(6,3),(6,6),(6,13),\n",
    "    (7,6),(8,0),(8,1),(8,2),(8,3),(8,12),(10,0),(10,1),(10,2),(10,3),(10,7),(10,8),(11,13),(12,0),\n",
    "    (12,1),(12,2),(12,4),(12,5),(12,6),(12,8),(13,8),(13,11),(14,0),(14,1),(14,2),(14,4),(14,5),(14,6),\n",
    ")"
   ]
  },
  {
   "cell_type": "code",
   "execution_count": 131,
   "metadata": {},
   "outputs": [],
   "source": [
    "%%capture test\n",
    "start = time.time()\n",
    "colony = AntColony(COORDS15x15_1, ant_count=100, alpha=0.5, beta=1.2, \n",
    "                    pheromone_evaporation_rate=0.40, pheromone_constant=1000.0,\n",
    "                    iterations=100)\n",
    "\n",
    "optimal_nodes = colony.get_path()\n",
    "optimal_nodes = list(dict.fromkeys(optimal_nodes)) #remove duplicates\n",
    "end = time.time()\n",
    "colonyTime15x15_1 = end - start"
   ]
  },
  {
   "cell_type": "code",
   "execution_count": 133,
   "metadata": {},
   "outputs": [
    {
     "name": "stdout",
     "output_type": "stream",
     "text": [
      "Liczba trafien =  56 / 56\n"
     ]
    }
   ],
   "source": [
    "hits = 0\n",
    "for i in COORDS15x15_1:\n",
    "    for j in optimal_nodes:\n",
    "        if i == j:\n",
    "            hits += 1\n",
    "print(\"Liczba trafien = \", hits, \"/ 56\")"
   ]
  },
  {
   "cell_type": "markdown",
   "metadata": {},
   "source": [
    "Co ciekawe, tym razem doszliśmy do wyniku 56/56. Prawdopodobnie duży wpływ na wynik ma ułożenie planszy, co w przypadku algorytmów genetycznych nie grało tak dużej roli. "
   ]
  },
  {
   "cell_type": "markdown",
   "metadata": {},
   "source": [
    "Na koniec porównajmy czas potrzebny na obliczenia dla poszczególnych przypadków."
   ]
  },
  {
   "cell_type": "code",
   "execution_count": 154,
   "metadata": {},
   "outputs": [
    {
     "data": {
      "image/png": "[encoded data removed]",
      "text/plain": [
       "<Figure size 720x360 with 1 Axes>"
      ]
     },
     "metadata": {
      "needs_background": "light"
     },
     "output_type": "display_data"
    }
   ],
   "source": [
    "data = {'5x5_1': 0.5070, '5x5_2': 0.5131, '5x5_3': 0.5287,\n",
    "        '10x10_1': 3.3107, '10x10_2': 1.6774, '10x10_3': 1.6736,\n",
    "        '15x15_1': 5.6761, '15x15_2': 6.6170, '15x15_3': 6.0706,\n",
    "        }\n",
    "courses = list(data.keys())\n",
    "values = list(data.values())\n",
    "  \n",
    "fig = plt.figure(figsize = (10, 5))\n",
    " \n",
    "# creating the bar plot\n",
    "plt.bar(courses, values, color ='green',\n",
    "        width = 0.4)\n",
    " \n",
    "plt.xlabel(\"Najlepsze rozwiązania algorytmów genetycznych i kolonie mrówek\")\n",
    "plt.ylabel(\"Czas potrzebny algorytmom\")\n",
    "plt.title(\"Porównanie czasu potrzebnego algorytmom\")\n",
    "plt.show()"
   ]
  },
  {
   "cell_type": "markdown",
   "metadata": {},
   "source": [
    "Intuicyjnie im większa plansza, tym większy czas, którego potrzebuje algorytm."
   ]
  },
  {
   "cell_type": "markdown",
   "metadata": {},
   "source": [
    "Dlaczego jednak rozwiązanie pierwszej planszy 10x10 zajęło algorytmowi prawie dwa razy więcej czasu? Spójrzmy jeszcze raz na to jak wyglądało to rozstawienie."
   ]
  },
  {
   "cell_type": "code",
   "execution_count": 155,
   "metadata": {},
   "outputs": [
    {
     "data": {
      "image/png": "[encoded data removed]",
      "text/plain": [
       "<Figure size 288x288 with 1 Axes>"
      ]
     },
     "metadata": {
      "needs_background": "light"
     },
     "output_type": "display_data"
    }
   ],
   "source": [
    "target_board = np.array([[1,1,1,1,0,0,0,0,0,0],\n",
    "                            [0,0,0,0,0,0,0,0,0,0],\n",
    "                            [1,1,1,0,0,0,0,0,0,0],\n",
    "                            [0,0,0,0,0,0,0,0,0,0],\n",
    "                            [1,1,1,0,0,0,0,0,0,0],\n",
    "                            [0,0,0,0,0,0,0,0,0,0],\n",
    "                            [1,1,0,1,1,0,0,0,0,0],\n",
    "                            [0,0,0,0,0,0,0,0,0,0],\n",
    "                            [1,1,0,1,0,1,0,1,0,1],\n",
    "                            [0,0,0,0,0,0,0,0,0,0]])\n",
    "plt.matshow(target_board)\n",
    "plt.show()"
   ]
  },
  {
   "cell_type": "markdown",
   "metadata": {},
   "source": [
    "Jest dosyć niestandardowe, co może wpłynąć na czas potrzebny do znalezienia najlepszego rozwiązania."
   ]
  },
  {
   "cell_type": "markdown",
   "metadata": {},
   "source": [
    "Porównajmy algorytmy genetyczne do kolonii mrówek."
   ]
  },
  {
   "cell_type": "code",
   "execution_count": 156,
   "metadata": {},
   "outputs": [
    {
     "data": {
      "image/png": "[encoded data removed]",
      "text/plain": [
       "<Figure size 720x360 with 1 Axes>"
      ]
     },
     "metadata": {
      "needs_background": "light"
     },
     "output_type": "display_data"
    }
   ],
   "source": [
    "data = {'5x5_1': 0.5070, '5x5_2': 0.5131, '5x5_3': 0.5287,\n",
    "        '10x10_1': 3.3107, '10x10_2': 1.6774, '10x10_3': 1.6736,\n",
    "        '15x15_1': 5.6761, '15x15_2': 6.6170, '15x15_3': 6.0706,\n",
    "        'R5x5_1': colonyTime5x5_1, 'R10x10_1': colonyTime10x10_1, 'R15x15_1': colonyTime15x15_1,\n",
    "        }\n",
    "courses = list(data.keys())\n",
    "values = list(data.values())\n",
    "  \n",
    "fig = plt.figure(figsize = (10, 5))\n",
    " \n",
    "# creating the bar plot\n",
    "plt.bar(courses, values, color ='green',\n",
    "        width = 0.4)\n",
    " \n",
    "plt.xlabel(\"Najlepsze rozwiązania algorytmów genetycznych i kolonie mrówek\")\n",
    "plt.ylabel(\"Czas potrzebny algorytmom\")\n",
    "plt.title(\"Porównanie czasu potrzebnego algorytmom\")\n",
    "plt.show()"
   ]
  },
  {
   "cell_type": "markdown",
   "metadata": {},
   "source": [
    "Jak widzimy przepaść jest ogromna i chociaż kolonie radziły sobie całkiem nieźle, to ewidentnie nie są stworzone do gry w statki."
   ]
  }
 ],
 "metadata": {
  "kernelspec": {
   "display_name": "Python 3 (ipykernel)",
   "language": "python",
   "name": "python3"
  },
  "language_info": {
   "codemirror_mode": {
    "name": "ipython",
    "version": 3
   },
   "file_extension": ".py",
   "mimetype": "text/x-python",
   "name": "python",
   "nbconvert_exporter": "python",
   "pygments_lexer": "ipython3",
   "version": "3.9.7"
  },
  "vscode": {
   "interpreter": {
    "hash": "4b8807a6659b478bf6d334f9a928f1059f89667802e01f90bbb676cd94a15ae8"
   }
  }
 },
 "nbformat": 4,
 "nbformat_minor": 2
}
